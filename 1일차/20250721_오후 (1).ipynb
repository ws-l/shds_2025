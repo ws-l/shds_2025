{
  "nbformat": 4,
  "nbformat_minor": 0,
  "metadata": {
    "colab": {
      "provenance": []
    },
    "kernelspec": {
      "name": "python3",
      "display_name": "Python 3"
    },
    "language_info": {
      "name": "python"
    }
  },
  "cells": [
    {
      "cell_type": "code",
      "execution_count": null,
      "metadata": {
        "id": "kys7EB9RK4OC"
      },
      "outputs": [],
      "source": []
    },
    {
      "cell_type": "code",
      "source": [
        "#AMZN.csv를 읽어보세요 df1\n",
        "#df2   close컬럼과 volume 컬럼을 선택\n",
        "#df2.corr()\n",
        "#df2.plot()\n",
        "import pandas as pd\n",
        "df1 = pd.read_csv(\"AMZN.csv\", parse_dates=[0], index_col=0)\n",
        "df2 = df1[[\"Close\", \"Volume\"]]\n",
        "df2.corr()\n",
        "df2.describe()\n",
        "df2.head()"
      ],
      "metadata": {
        "id": "dREHZDhPtZsd"
      },
      "execution_count": null,
      "outputs": []
    },
    {
      "cell_type": "code",
      "source": [
        "import numpy as np\n",
        "from sklearn.model_selection import train_test_split\n",
        "from sklearn.tree import DecisionTreeRegressor\n",
        "from sklearn.ensemble import RandomForestRegressor\n",
        "!unzip mortDefault.zip"
      ],
      "metadata": {
        "colab": {
          "base_uri": "https://localhost:8080/"
        },
        "id": "ARD2jHlt0u3V",
        "outputId": "fdce3e6c-704e-4724-82ae-a1db09f24720"
      },
      "execution_count": null,
      "outputs": [
        {
          "output_type": "stream",
          "name": "stdout",
          "text": [
            "Archive:  mortDefault.zip\n",
            "  inflating: mortDefault2007.csv     \n",
            "  inflating: mortDefault2008.csv     \n",
            "  inflating: mortDefault2009.csv     \n"
          ]
        }
      ]
    },
    {
      "cell_type": "code",
      "source": [
        "mort = pd.read_csv(\"mortDefault2007.csv\")\n",
        "mort.drop(\"year\", axis=1, inplace=True)"
      ],
      "metadata": {
        "id": "r4FvOABqIGRU"
      },
      "execution_count": null,
      "outputs": []
    },
    {
      "cell_type": "code",
      "source": [
        "train, test = train_test_split( mort, train_size=0.8, stratify = mort[\"default\"])    #파티셔닝\n",
        "dt1 = RandomForestRegressor()        #instance\n",
        "dt0 = RandomForestRegressor()        #instance\n",
        "#rooted mean squared error: RMSE"
      ],
      "metadata": {
        "id": "lZdto03yyHw6"
      },
      "execution_count": null,
      "outputs": []
    },
    {
      "cell_type": "code",
      "source": [
        "train1 = train.query(\"default==1\").drop(\"default\", axis=1)\n",
        "test1 = train.query(\"default==1\").drop(\"default\", axis=1)\n",
        "\n",
        "dt1.fit( train1.drop(\"creditScore\", axis=1), train1[\"creditScore\"])  #fitting  , modeling\n",
        "rmse1=np.sqrt(((dt1.predict(test1.drop(\"creditScore\", axis=1))-test1.creditScore)**2).mean() )   #predict, evaluate\n",
        "print(rmse1)"
      ],
      "metadata": {
        "colab": {
          "base_uri": "https://localhost:8080/"
        },
        "id": "QHim92AFJBQ0",
        "outputId": "d4eb5916-4a62-47fe-b27d-15a777fd6ca3"
      },
      "execution_count": null,
      "outputs": [
        {
          "output_type": "stream",
          "name": "stdout",
          "text": [
            "20.442975349070586\n"
          ]
        }
      ]
    },
    {
      "cell_type": "code",
      "source": [
        "#mortDefault.zip을 업로드 해서 다음 명령어로 압축을 해제하고 2007년 자료를 읽으세요\n",
        "# !unzip mortDefault.zip\n",
        "# default가 1과 0인 상황에서 creditScore\thouseAge\tyearsEmploy\tccDebt의 평균 비교해보세요\n",
        "# 파티셔닝 하세요  train_test_split(  mort, train_size=0.8, stratify = mort[\"default\"])\n",
        "# train에서 default가 1인 경우와, 0인 경우에서의 RandomForestRegressor를 만드세요\n",
        "# Y: creditScore, X: houseAge, yearsEmploy, ccDebt\n",
        "# test에서 성능을 RMSE로 평가하세요"
      ],
      "metadata": {
        "id": "WGQVAfrEyH0q"
      },
      "execution_count": null,
      "outputs": []
    }
  ]
}