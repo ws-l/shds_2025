{
  "nbformat": 4,
  "nbformat_minor": 0,
  "metadata": {
    "colab": {
      "provenance": []
    },
    "kernelspec": {
      "name": "python3",
      "display_name": "Python 3"
    },
    "language_info": {
      "name": "python"
    }
  },
  "cells": [
    {
      "cell_type": "code",
      "execution_count": null,
      "metadata": {
        "id": "s7VzxbKn4FoA"
      },
      "outputs": [],
      "source": [
        "#깃허브의 1일차-> data.zip\n",
        "#creditset2.csv -> 데이터프레임\n",
        "# 1. default컬럼 선택 1->\"d\", 0->\"n\"\n",
        "# 2. 1~1400행 선택, 1401행~2000행\n",
        "# 3. LTI를 삭제\n",
        "\n",
        "import pandas as pd\n",
        "df = pd.read_csv(\"creditset2.csv\", header=None , index_col=[0] , parse_dates= [1] )\n",
        "#df.info()\n",
        "df1 = df.iloc[1:2001,    ]  #\n",
        "df1[\"col4\"] = df1.index\n",
        "df1.reset_index(inplace=True)\n",
        "df1 = df1.iloc[ :  ,  1:5]\n",
        "df1.columns = [\"age\", \"loan\", \"default\", \"income\"]  #Loan To Income\n",
        "df1.age\n",
        "df1.iloc[:, 0]\n",
        "\n",
        "df1[\"age\"]     #1D\n",
        "df1[    [\"age\" ]    ]     #2D 2000행 1열짜리,  df1[    [\"age\", \"income\" ]    ]\n",
        "\n",
        "df1[\"age\"] = df1.age.astype(\"float\")  #실수\n",
        "#loan, income dtype을 변환해서 LTI컬럼 추가\n",
        "df1[\"loan\"] = df1.loan.astype(\"float\")  #실수\n",
        "df1[\"income\"] = df1.income.astype(\"float\")  #실수\n",
        "df1[\"LTI\"] = df1.loan / df1.income  #LTI\n",
        "df1.LTI.tolist()   #list"
      ]
    },
    {
      "cell_type": "code",
      "source": [
        "df1.default.value_counts()\n",
        "df1.default.replace( [\"0\",\"1\"]      ,  [\"N\", \"D\"]      )\n",
        "df1.default.replace( {\"0\":\"N\", \"1\":\"D\"}    )   # inplcae=True\n",
        "\n",
        "def func1( x ):\n",
        "  if x == \"0\":\n",
        "    return \"N\"\n",
        "  elif x== \"1\":\n",
        "    return \"D\"\n",
        "  else:\n",
        "    return \"ERR\"\n",
        "\n",
        "df1.default.apply( func1 )   #df1.default.apply( lambda x: \"N\" if x==\"0\" else \"D\" if x==\"1\" else \"ERR\" )\n"
      ],
      "metadata": {
        "id": "DOuqu603Dcus"
      },
      "execution_count": null,
      "outputs": []
    },
    {
      "cell_type": "code",
      "source": [
        "#creditset2.csv를 df2로 읽으세요\n",
        "#default가 1인 경우 다른 세 개변수 평균, 0인 경우의 다른 세개변수 평균\n",
        "df2 = pd.read_csv(\"creditset2.csv\")\n",
        "\n",
        "df2[ df2.default10yr==0  ].drop(\"default10yr\", axis=1).mean()\n",
        "df2[ df2.default10yr==1  ].drop(\"default10yr\", axis=1).mean()\n",
        "\n",
        "df2.groupby(\"default10yr\").mean()\n",
        "\n",
        "#binary.csv ->admit이 1인 경우 합격, 0인경우는 불합격\n",
        "#합격생 GRE, GPA 평균과, 불합격생의 ...을 비교\n",
        "\n",
        "df3 = pd.read_csv(\"binary.csv\")\n",
        "df3.groupby(\"admit\").mean().drop(\"rank\", axis=1)"
      ],
      "metadata": {
        "id": "7_Y6gbEdFSrA"
      },
      "execution_count": null,
      "outputs": []
    },
    {
      "cell_type": "code",
      "source": [
        "#creditapprovaluci.csv\n",
        "#df4 ->수치형 dtype 컬럼과, object형 dtype 컬럼들을 각각 선택\n",
        "#df4_1, df4_2\n",
        "df4 = pd.read_csv(\"creditApprovalUCI.csv\")\n",
        "df4_1 = df4.select_dtypes(include=\"number\")\n",
        "df4_2 = df4.select_dtypes(include=\"object\")\n",
        "df4.shape, df4_1.shape, df4_2.shape\n",
        "df4_1.isnull().mean()\n",
        "df4_2.dropna().shape\n",
        "\n",
        "#imputing\n",
        "df4_1.fillna( df4_1.mean(), inplace=True)   #각 변수의 결측치를, 각 변수의 평균으로 ...\n",
        "#df4_2.fillna(     df4_1.mean(), inplace=True)   #각 변수의 결측치를, 각 변수의 평균으로 ...\n",
        "df4_2.fillna(\"ERR\")\n",
        "\n",
        "from sklearn.impute import SimpleImputer\n",
        "imputer = SimpleImputer(strategy=\"most_frequent\") #imputer.fit(df4_2)  #imputer.statistics_\n",
        "df4_2=pd.DataFrame(imputer.fit_transform( df4_2 ), columns=df4_2.columns, index=df4_2.index )\n",
        "\n",
        "pd.concat( [ df4_1  , df4_2  ]    , axis=1     )\n",
        "df4_3 = df4_1.merge( df4_2, left_index=True, right_index=True )  #left_on, right_on\n"
      ],
      "metadata": {
        "id": "FvPoujINEpwa"
      },
      "execution_count": null,
      "outputs": []
    },
    {
      "cell_type": "code",
      "source": [
        "#AMZN.csv를 읽으셔서 df5, date? 컬럼을 datetime64로 지정\n",
        "#데이터프레임을 Close, Volume컬럼을 갖는 두 데이터프레임으로 나눠보세요.\n",
        "#두 데이터프레임을 하나로 합쳐보세요.\n",
        "\n",
        "df5 = pd.read_csv(\"AMZN.csv\", parse_dates=[0], index_col=[0])\n",
        "df5.head()\n",
        "df5_1 = df5[ [\"Volume\"] ]\n",
        "df5_2 = df5[ [\"Close\"] ]\n",
        "pd.concat( [ df5_1, df5_2 ] , axis=1 )\n",
        "df5_3 = df5_1.merge(df5_2, left_index=True, right_index=True)\n",
        "df5_3.reset_index(inplace=True)\n",
        "df5_3.Date.dt.dayofweek\n",
        "df5_3.Date.dt.day_of_year\n",
        "df5_3.Date.dt.quarter\n",
        "\n",
        "#AMZN-> 분기별로 Close, Volume 평균\n",
        "df5[\"qt\"] = df5.reset_index().Date.dt.quarter.values\n",
        "df5[[\"qt\", \"Close\", \"Volume\"]].groupby(\"qt\").mean()\n",
        "#Date -> object -> \"-\"를 \":\"으로 변경해보세요\n",
        "df5.reset_index().Date.astype(\"object\")#.replace(\"\\-\", \"\\:\")\n",
        "\n",
        "#아레 3개 데이터프레임을 하나로 합쳐보세요 -> df5_4\n",
        "df5_4 = pd.concat( [ df5[[\"Close\"]], #t\n",
        " df5[[\"Close\"]].shift(1),  #t-1\n",
        "df5[[\"Close\"]].shift(2) #t-2\n",
        " ], axis=1)\n",
        "df5_4.columns = [\"Close\",\"Close(t-1)\", \"Close(t-2)\"]\n",
        "df5_4.head()\n",
        "df5_4.dropna(inplace=True)\n",
        "df5_4.Close.diff()\n",
        "df5_4.Close.pct_change()"
      ],
      "metadata": {
        "id": "bzGrhEsEUkwZ"
      },
      "execution_count": null,
      "outputs": []
    },
    {
      "cell_type": "code",
      "source": [
        "#sahmpoo.txt을 읽으셔서 일자별  판매량의 차이와 변화율을 구해보세요,.\n",
        "df6 = pd.read_csv(\"shampoo.txt\")\n",
        "df6.Sales.diff().dropna()\n",
        "df6.Sales.pct_change().dropna()"
      ],
      "metadata": {
        "id": "ZBCkXerFhS92"
      },
      "execution_count": null,
      "outputs": []
    },
    {
      "cell_type": "code",
      "source": [
        "!pip install pykrx -qqq"
      ],
      "metadata": {
        "id": "Wnf9ElYMhp-G"
      },
      "execution_count": null,
      "outputs": []
    },
    {
      "cell_type": "code",
      "source": [
        "from pykrx import stock\n",
        "df7=stock.get_market_ohlcv_by_date(ticker=\"005930\",fromdate=\"20250701\", todate=\"20250730\")\n",
        "df7.거래량.pct_change()\n",
        "df7_1 = pd.concat( [df7.종가, df7.종가.shift(1), df7.종가.shift(2)], axis=1 )\n"
      ],
      "metadata": {
        "id": "ud6gVAzZisQK"
      },
      "execution_count": null,
      "outputs": []
    },
    {
      "cell_type": "code",
      "source": [
        "df7.종가   #63000보다 큰 행\n",
        "price = 63000\n",
        "df7.query( \"( 종가 > @price and 등락률>0 ) or 거래량 > 20000000\"   )\n",
        "df7.query( \"( 종가 > @price and 등락률>0 ) or 거래량 != '없음'\"   )"
      ],
      "metadata": {
        "id": "sMt6sjVe2k-i"
      },
      "execution_count": null,
      "outputs": []
    },
    {
      "cell_type": "code",
      "source": [
        "df3.query(  \" rank not in [3,4]\")"
      ],
      "metadata": {
        "id": "7JtGqD2b6KLE"
      },
      "execution_count": null,
      "outputs": []
    },
    {
      "cell_type": "code",
      "source": [
        "import seaborn as sns\n",
        "df8 = sns.load_dataset(\"diamonds\")\n",
        "df8.cut.unique()\n",
        "df8.clarity.unique()\n",
        "#df8에서 가격은 평균 이상이고, cut이 fair 또는 good 인 행\n",
        "avg = df8.price.mean()\n",
        "df8.query( \"price >=@avg and cut in ['Fair', 'Good'] \").to_csv(\"123.csv\")\n",
        "#df8에서 수치형 변수만 선택-> corr()\n",
        "df8_1 = df8.select_dtypes(include=\"number\")\n",
        "#sns.heatmap( df8_1.corr())\n",
        "#sns.pairplot(df8_1)\n",
        "#sns.jointplot(data=df8_1, x=\"carat\", y=\"price\")"
      ],
      "metadata": {
        "id": "qKF4Gscb2lDk"
      },
      "execution_count": null,
      "outputs": []
    },
    {
      "cell_type": "code",
      "source": [
        "df9 = sns.load_dataset(\"tips\")\n",
        "#total_bill, tip에 대한 joint plot\n",
        "#sns.jointplot( df9, x=\"total_bill\", y=\"tip\")\n",
        "#요일별 total_bill, tip의 평균->heatmap\n",
        "#sns.heatmap( df9[[\"total_bill\", \"tip\", \"day\"]].groupby(\"day\").mean()  )\n",
        "\n",
        "df9[[\"total_bill\", \"tip\"]].corr()  #correlation 상관관계, 두 변수의 선형관계를 알려줌.\n",
        "#-1~1, 0: 선형관계없음."
      ],
      "metadata": {
        "colab": {
          "base_uri": "https://localhost:8080/",
          "height": 112
        },
        "id": "iBwEb7X5-3zD",
        "outputId": "63352e43-3a83-4bc8-89b3-020e229cf467"
      },
      "execution_count": null,
      "outputs": [
        {
          "output_type": "execute_result",
          "data": {
            "text/plain": [
              "            total_bill       tip\n",
              "total_bill    1.000000  0.675734\n",
              "tip           0.675734  1.000000"
            ],
            "text/html": [
              "\n",
              "  <div id=\"df-856f2a72-85ba-4a6e-a67e-7ff488702915\" class=\"colab-df-container\">\n",
              "    <div>\n",
              "<style scoped>\n",
              "    .dataframe tbody tr th:only-of-type {\n",
              "        vertical-align: middle;\n",
              "    }\n",
              "\n",
              "    .dataframe tbody tr th {\n",
              "        vertical-align: top;\n",
              "    }\n",
              "\n",
              "    .dataframe thead th {\n",
              "        text-align: right;\n",
              "    }\n",
              "</style>\n",
              "<table border=\"1\" class=\"dataframe\">\n",
              "  <thead>\n",
              "    <tr style=\"text-align: right;\">\n",
              "      <th></th>\n",
              "      <th>total_bill</th>\n",
              "      <th>tip</th>\n",
              "    </tr>\n",
              "  </thead>\n",
              "  <tbody>\n",
              "    <tr>\n",
              "      <th>total_bill</th>\n",
              "      <td>1.000000</td>\n",
              "      <td>0.675734</td>\n",
              "    </tr>\n",
              "    <tr>\n",
              "      <th>tip</th>\n",
              "      <td>0.675734</td>\n",
              "      <td>1.000000</td>\n",
              "    </tr>\n",
              "  </tbody>\n",
              "</table>\n",
              "</div>\n",
              "    <div class=\"colab-df-buttons\">\n",
              "\n",
              "  <div class=\"colab-df-container\">\n",
              "    <button class=\"colab-df-convert\" onclick=\"convertToInteractive('df-856f2a72-85ba-4a6e-a67e-7ff488702915')\"\n",
              "            title=\"Convert this dataframe to an interactive table.\"\n",
              "            style=\"display:none;\">\n",
              "\n",
              "  <svg xmlns=\"http://www.w3.org/2000/svg\" height=\"24px\" viewBox=\"0 -960 960 960\">\n",
              "    <path d=\"M120-120v-720h720v720H120Zm60-500h600v-160H180v160Zm220 220h160v-160H400v160Zm0 220h160v-160H400v160ZM180-400h160v-160H180v160Zm440 0h160v-160H620v160ZM180-180h160v-160H180v160Zm440 0h160v-160H620v160Z\"/>\n",
              "  </svg>\n",
              "    </button>\n",
              "\n",
              "  <style>\n",
              "    .colab-df-container {\n",
              "      display:flex;\n",
              "      gap: 12px;\n",
              "    }\n",
              "\n",
              "    .colab-df-convert {\n",
              "      background-color: #E8F0FE;\n",
              "      border: none;\n",
              "      border-radius: 50%;\n",
              "      cursor: pointer;\n",
              "      display: none;\n",
              "      fill: #1967D2;\n",
              "      height: 32px;\n",
              "      padding: 0 0 0 0;\n",
              "      width: 32px;\n",
              "    }\n",
              "\n",
              "    .colab-df-convert:hover {\n",
              "      background-color: #E2EBFA;\n",
              "      box-shadow: 0px 1px 2px rgba(60, 64, 67, 0.3), 0px 1px 3px 1px rgba(60, 64, 67, 0.15);\n",
              "      fill: #174EA6;\n",
              "    }\n",
              "\n",
              "    .colab-df-buttons div {\n",
              "      margin-bottom: 4px;\n",
              "    }\n",
              "\n",
              "    [theme=dark] .colab-df-convert {\n",
              "      background-color: #3B4455;\n",
              "      fill: #D2E3FC;\n",
              "    }\n",
              "\n",
              "    [theme=dark] .colab-df-convert:hover {\n",
              "      background-color: #434B5C;\n",
              "      box-shadow: 0px 1px 3px 1px rgba(0, 0, 0, 0.15);\n",
              "      filter: drop-shadow(0px 1px 2px rgba(0, 0, 0, 0.3));\n",
              "      fill: #FFFFFF;\n",
              "    }\n",
              "  </style>\n",
              "\n",
              "    <script>\n",
              "      const buttonEl =\n",
              "        document.querySelector('#df-856f2a72-85ba-4a6e-a67e-7ff488702915 button.colab-df-convert');\n",
              "      buttonEl.style.display =\n",
              "        google.colab.kernel.accessAllowed ? 'block' : 'none';\n",
              "\n",
              "      async function convertToInteractive(key) {\n",
              "        const element = document.querySelector('#df-856f2a72-85ba-4a6e-a67e-7ff488702915');\n",
              "        const dataTable =\n",
              "          await google.colab.kernel.invokeFunction('convertToInteractive',\n",
              "                                                    [key], {});\n",
              "        if (!dataTable) return;\n",
              "\n",
              "        const docLinkHtml = 'Like what you see? Visit the ' +\n",
              "          '<a target=\"_blank\" href=https://colab.research.google.com/notebooks/data_table.ipynb>data table notebook</a>'\n",
              "          + ' to learn more about interactive tables.';\n",
              "        element.innerHTML = '';\n",
              "        dataTable['output_type'] = 'display_data';\n",
              "        await google.colab.output.renderOutput(dataTable, element);\n",
              "        const docLink = document.createElement('div');\n",
              "        docLink.innerHTML = docLinkHtml;\n",
              "        element.appendChild(docLink);\n",
              "      }\n",
              "    </script>\n",
              "  </div>\n",
              "\n",
              "\n",
              "    <div id=\"df-46d8913c-82ee-4042-9109-13a3bd2f44f9\">\n",
              "      <button class=\"colab-df-quickchart\" onclick=\"quickchart('df-46d8913c-82ee-4042-9109-13a3bd2f44f9')\"\n",
              "                title=\"Suggest charts\"\n",
              "                style=\"display:none;\">\n",
              "\n",
              "<svg xmlns=\"http://www.w3.org/2000/svg\" height=\"24px\"viewBox=\"0 0 24 24\"\n",
              "     width=\"24px\">\n",
              "    <g>\n",
              "        <path d=\"M19 3H5c-1.1 0-2 .9-2 2v14c0 1.1.9 2 2 2h14c1.1 0 2-.9 2-2V5c0-1.1-.9-2-2-2zM9 17H7v-7h2v7zm4 0h-2V7h2v10zm4 0h-2v-4h2v4z\"/>\n",
              "    </g>\n",
              "</svg>\n",
              "      </button>\n",
              "\n",
              "<style>\n",
              "  .colab-df-quickchart {\n",
              "      --bg-color: #E8F0FE;\n",
              "      --fill-color: #1967D2;\n",
              "      --hover-bg-color: #E2EBFA;\n",
              "      --hover-fill-color: #174EA6;\n",
              "      --disabled-fill-color: #AAA;\n",
              "      --disabled-bg-color: #DDD;\n",
              "  }\n",
              "\n",
              "  [theme=dark] .colab-df-quickchart {\n",
              "      --bg-color: #3B4455;\n",
              "      --fill-color: #D2E3FC;\n",
              "      --hover-bg-color: #434B5C;\n",
              "      --hover-fill-color: #FFFFFF;\n",
              "      --disabled-bg-color: #3B4455;\n",
              "      --disabled-fill-color: #666;\n",
              "  }\n",
              "\n",
              "  .colab-df-quickchart {\n",
              "    background-color: var(--bg-color);\n",
              "    border: none;\n",
              "    border-radius: 50%;\n",
              "    cursor: pointer;\n",
              "    display: none;\n",
              "    fill: var(--fill-color);\n",
              "    height: 32px;\n",
              "    padding: 0;\n",
              "    width: 32px;\n",
              "  }\n",
              "\n",
              "  .colab-df-quickchart:hover {\n",
              "    background-color: var(--hover-bg-color);\n",
              "    box-shadow: 0 1px 2px rgba(60, 64, 67, 0.3), 0 1px 3px 1px rgba(60, 64, 67, 0.15);\n",
              "    fill: var(--button-hover-fill-color);\n",
              "  }\n",
              "\n",
              "  .colab-df-quickchart-complete:disabled,\n",
              "  .colab-df-quickchart-complete:disabled:hover {\n",
              "    background-color: var(--disabled-bg-color);\n",
              "    fill: var(--disabled-fill-color);\n",
              "    box-shadow: none;\n",
              "  }\n",
              "\n",
              "  .colab-df-spinner {\n",
              "    border: 2px solid var(--fill-color);\n",
              "    border-color: transparent;\n",
              "    border-bottom-color: var(--fill-color);\n",
              "    animation:\n",
              "      spin 1s steps(1) infinite;\n",
              "  }\n",
              "\n",
              "  @keyframes spin {\n",
              "    0% {\n",
              "      border-color: transparent;\n",
              "      border-bottom-color: var(--fill-color);\n",
              "      border-left-color: var(--fill-color);\n",
              "    }\n",
              "    20% {\n",
              "      border-color: transparent;\n",
              "      border-left-color: var(--fill-color);\n",
              "      border-top-color: var(--fill-color);\n",
              "    }\n",
              "    30% {\n",
              "      border-color: transparent;\n",
              "      border-left-color: var(--fill-color);\n",
              "      border-top-color: var(--fill-color);\n",
              "      border-right-color: var(--fill-color);\n",
              "    }\n",
              "    40% {\n",
              "      border-color: transparent;\n",
              "      border-right-color: var(--fill-color);\n",
              "      border-top-color: var(--fill-color);\n",
              "    }\n",
              "    60% {\n",
              "      border-color: transparent;\n",
              "      border-right-color: var(--fill-color);\n",
              "    }\n",
              "    80% {\n",
              "      border-color: transparent;\n",
              "      border-right-color: var(--fill-color);\n",
              "      border-bottom-color: var(--fill-color);\n",
              "    }\n",
              "    90% {\n",
              "      border-color: transparent;\n",
              "      border-bottom-color: var(--fill-color);\n",
              "    }\n",
              "  }\n",
              "</style>\n",
              "\n",
              "      <script>\n",
              "        async function quickchart(key) {\n",
              "          const quickchartButtonEl =\n",
              "            document.querySelector('#' + key + ' button');\n",
              "          quickchartButtonEl.disabled = true;  // To prevent multiple clicks.\n",
              "          quickchartButtonEl.classList.add('colab-df-spinner');\n",
              "          try {\n",
              "            const charts = await google.colab.kernel.invokeFunction(\n",
              "                'suggestCharts', [key], {});\n",
              "          } catch (error) {\n",
              "            console.error('Error during call to suggestCharts:', error);\n",
              "          }\n",
              "          quickchartButtonEl.classList.remove('colab-df-spinner');\n",
              "          quickchartButtonEl.classList.add('colab-df-quickchart-complete');\n",
              "        }\n",
              "        (() => {\n",
              "          let quickchartButtonEl =\n",
              "            document.querySelector('#df-46d8913c-82ee-4042-9109-13a3bd2f44f9 button');\n",
              "          quickchartButtonEl.style.display =\n",
              "            google.colab.kernel.accessAllowed ? 'block' : 'none';\n",
              "        })();\n",
              "      </script>\n",
              "    </div>\n",
              "\n",
              "    </div>\n",
              "  </div>\n"
            ],
            "application/vnd.google.colaboratory.intrinsic+json": {
              "type": "dataframe",
              "summary": "{\n  \"name\": \"df9[[\\\"total_bill\\\", \\\"tip\\\"]]\",\n  \"rows\": 2,\n  \"fields\": [\n    {\n      \"column\": \"total_bill\",\n      \"properties\": {\n        \"dtype\": \"number\",\n        \"std\": 0.2292906102841404,\n        \"min\": 0.6757341092113648,\n        \"max\": 1.0,\n        \"num_unique_values\": 2,\n        \"samples\": [\n          0.6757341092113648,\n          1.0\n        ],\n        \"semantic_type\": \"\",\n        \"description\": \"\"\n      }\n    },\n    {\n      \"column\": \"tip\",\n      \"properties\": {\n        \"dtype\": \"number\",\n        \"std\": 0.2292906102841404,\n        \"min\": 0.6757341092113648,\n        \"max\": 1.0,\n        \"num_unique_values\": 2,\n        \"samples\": [\n          1.0,\n          0.6757341092113648\n        ],\n        \"semantic_type\": \"\",\n        \"description\": \"\"\n      }\n    }\n  ]\n}"
            }
          },
          "metadata": {},
          "execution_count": 221
        }
      ]
    },
    {
      "cell_type": "markdown",
      "source": [
        "# 회귀: Regression\n",
        "- 영향을 주는 변수(들) (수치, 범주형, 여러개):\n",
        "X\n",
        "- 영향을 받는 변수(수치, 1개): y\n"
      ],
      "metadata": {
        "id": "tYpl0TvBHoqc"
      }
    },
    {
      "cell_type": "code",
      "source": [
        "#삼성전자 주가를 6개월, 수집\n",
        "df10=stock.get_market_ohlcv_by_date(ticker=\"005930\",fromdate=\"20250201\",todate=\"20250730\")"
      ],
      "metadata": {
        "id": "ue5oWfH6HnCP"
      },
      "execution_count": null,
      "outputs": []
    },
    {
      "cell_type": "code",
      "source": [
        "# Close, Close(t-1), Close(t-2), 거래량(t-1) 데이터프레임\n",
        "# y, X1, X2, X3\n",
        "df10_1 = pd.concat( [df10.종가,\n",
        "                     df10.종가.shift(1),\n",
        "                     df10.종가.shift(2),\n",
        "                     df10.거래량.shift(1)\n",
        "                     ],\n",
        "                    axis=1 )\n",
        "df10_1.columns = [\"y\", \"X1\", \"X2\", \"X3\"]\n",
        "df10_1.dropna(inplace=True)"
      ],
      "metadata": {
        "id": "RHB3ff4vKRAV"
      },
      "execution_count": null,
      "outputs": []
    },
    {
      "cell_type": "code",
      "source": [
        "df10_1.drop(\"y\", axis=1).tail(1).shape\n",
        "df10_1.shape"
      ],
      "metadata": {
        "colab": {
          "base_uri": "https://localhost:8080/"
        },
        "id": "W9yVqx8yNXMO",
        "outputId": "22aeb26d-b0bf-4125-c06d-6bf88405fba3"
      },
      "execution_count": null,
      "outputs": [
        {
          "output_type": "execute_result",
          "data": {
            "text/plain": [
              "(120, 4)"
            ]
          },
          "metadata": {},
          "execution_count": 241
        }
      ]
    },
    {
      "cell_type": "code",
      "source": [
        "#adv.csv -> sales->y변수, tv, news, radio -> X\n",
        "from sklearn.tree import DecisionTreeRegressor #ML, Regression\n",
        "from sklearn.ensemble import RandomForestRegressor\n",
        "\n",
        "from sklearn.model_selection import train_test_split\n",
        "X_train, X_test, y_train, y_test = train_test_split(df10_1.drop('y', axis=1),\n",
        "                                                    df10_1.y,\n",
        "                                                    train_size=0.8)\n",
        "model = RandomForestRegressor()\n",
        "model.fit( X_train, y_train  )     #\n",
        "pred = model.predict(  X_test )\n",
        "\n",
        "import numpy as np\n",
        "from sklearn.metrics import mean_squared_error\n",
        "np.sqrt( mean_squared_error( y_test, pred) )  #((y_test - pred)**2).mean()**0.5   #rooted mean squared error  RMSE, MSE"
      ],
      "metadata": {
        "colab": {
          "base_uri": "https://localhost:8080/"
        },
        "id": "mwgPHBXfLY1c",
        "outputId": "8c66caa1-ef88-4b11-c48c-b48f942deba4"
      },
      "execution_count": null,
      "outputs": [
        {
          "output_type": "execute_result",
          "data": {
            "text/plain": [
              "np.float64(870.5020582016641)"
            ]
          },
          "metadata": {},
          "execution_count": 256
        }
      ]
    },
    {
      "cell_type": "code",
      "source": [
        "#adv.csv -> sales->y변수, tv, news, radio -> X\n",
        "adv = pd.read_csv(\"adv.csv\", index_col=[0])"
      ],
      "metadata": {
        "id": "5sYa8W9rZrae"
      },
      "execution_count": null,
      "outputs": []
    },
    {
      "cell_type": "code",
      "source": [
        "X_train, X_test, y_train, y_test = train_test_split(adv.drop('sales', axis=1),#X\n",
        "                                                    adv.sales,\n",
        "                                                    train_size=0.8,\n",
        "                                                    random_state=1)\n",
        "model = RandomForestRegressor(n_estimators=100, random_state=1)\n",
        "model.fit( X_train, y_train  )     #\n",
        "pred = model.predict(  X_test )\n",
        "\n",
        "np.sqrt( mean_squared_error( y_test, pred) )"
      ],
      "metadata": {
        "colab": {
          "base_uri": "https://localhost:8080/"
        },
        "id": "0YRmgYGlZdAA",
        "outputId": "9be1bf6b-2c0f-44ff-f605-b5bd37790bde"
      },
      "execution_count": null,
      "outputs": [
        {
          "output_type": "execute_result",
          "data": {
            "text/plain": [
              "np.float64(0.6824936629742423)"
            ]
          },
          "metadata": {},
          "execution_count": 277
        }
      ]
    },
    {
      "cell_type": "code",
      "source": [
        "#1. 다음 두 함수를 이용해서 같은 기간에 대한 같은 회사의 데이터를 수집\n",
        "from pykrx import stock\n",
        "stock.get_market_fundamental_by_date(ticker=\"005930\",fromdate=\"20250201\",todate=\"20250730\")\n",
        "stock.get_market_ohlcv_by_date(ticker=\"005930\",fromdate=\"20250201\",todate=\"20250730\")\n",
        "\n",
        "#2. 위의 데이터프레임을 하나로 합치세요\n",
        "from sklearn.model_selection import train_test_split\n",
        "\n",
        "#3. 종가를 y변수로 하고, 파티셔닝을 한 후 회귀 모형을 만들어보세요.\n",
        "from sklearn.tree import DecisionTreeRegressor\n",
        "from sklearn.ensemble import RandomForestRegressor\n",
        "#.fit(  ), .predict( )\n",
        "#4. 성능을 측정해보세요. RMSE\n",
        "from sklearn.metrics import mean_squared_error\n",
        "import numpy as np\n",
        "np.sqrt( mean_squared_error(          ))"
      ],
      "metadata": {
        "id": "USkeJ_whf1rI"
      },
      "execution_count": null,
      "outputs": []
    },
    {
      "cell_type": "code",
      "source": [
        "#mortDefault.zip을 업로드 하고, 아래 코드를 통해서 압축을 해제하세요\n",
        "!unzip mortDefault.zip"
      ],
      "metadata": {
        "colab": {
          "base_uri": "https://localhost:8080/"
        },
        "id": "6iKm8L76nqz5",
        "outputId": "ed604c31-9494-4c18-9060-f3d550bfeae0"
      },
      "execution_count": 278,
      "outputs": [
        {
          "output_type": "stream",
          "name": "stdout",
          "text": [
            "Archive:  mortDefault.zip\n",
            "  inflating: mortDefault2007.csv     \n",
            "  inflating: mortDefault2008.csv     \n",
            "  inflating: mortDefault2009.csv     \n"
          ]
        }
      ]
    },
    {
      "cell_type": "code",
      "source": [
        "#mortDefault2007.csv 를 읽은 후, default가 1인 행들을 선택하세요\n",
        "data = pd.read_csv(\"mortDefault2007.csv\")\n",
        "mort = data.query(\"default==1\")"
      ],
      "metadata": {
        "id": "A9BOqVqNn1V_"
      },
      "execution_count": 290,
      "outputs": []
    },
    {
      "cell_type": "code",
      "source": [
        "#creditScore를 y로, houseAge, yearsEmployed, ccDebt을 X변수로 하고, 파티셔닝해서 모델링하세요\n",
        "X_train, X_test, y_train, y_test = train_test_split(mort[[\"houseAge\", \"yearsEmploy\", \"ccDebt\"]],\n",
        "                                                    mort.creditScore,\n",
        "                                                    train_size=0.8,\n",
        "                                                    random_state=1)\n",
        "model = RandomForestRegressor(n_estimators=200, random_state=1)\n",
        "model.fit( X_train, y_train  )     #\n",
        "pred = model.predict(  X_test )\n"
      ],
      "metadata": {
        "id": "GsVtz8IQiuok"
      },
      "execution_count": 296,
      "outputs": []
    },
    {
      "cell_type": "code",
      "source": [
        "#성능을 측정해보세요.\n",
        "np.sqrt( mean_squared_error( y_test, pred) )"
      ],
      "metadata": {
        "colab": {
          "base_uri": "https://localhost:8080/"
        },
        "id": "JNTGnIJNoa5h",
        "outputId": "cb089851-91fe-4056-a291-d9140826dac6"
      },
      "execution_count": 297,
      "outputs": [
        {
          "output_type": "execute_result",
          "data": {
            "text/plain": [
              "np.float64(50.595318904228904)"
            ]
          },
          "metadata": {},
          "execution_count": 297
        }
      ]
    },
    {
      "cell_type": "markdown",
      "source": [],
      "metadata": {
        "id": "DhmU8SrhHntJ"
      }
    }
  ]
}