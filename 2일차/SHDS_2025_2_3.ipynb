{
  "nbformat": 4,
  "nbformat_minor": 0,
  "metadata": {
    "colab": {
      "provenance": []
    },
    "kernelspec": {
      "name": "python3",
      "display_name": "Python 3"
    },
    "language_info": {
      "name": "python"
    }
  },
  "cells": [
    {
      "cell_type": "markdown",
      "source": [
        "###1. ngrok 가입\n",
        "- https://dashboard.ngrok.com/signup\n",
        "- Getting Started -> Yout authtoken"
      ],
      "metadata": {
        "id": "EjQYReCjHdHG"
      }
    },
    {
      "cell_type": "code",
      "execution_count": null,
      "metadata": {
        "colab": {
          "base_uri": "https://localhost:8080/"
        },
        "id": "SYU29RlmFvtX",
        "outputId": "36132e2b-04aa-4650-e915-15164988db2c"
      },
      "outputs": [
        {
          "output_type": "stream",
          "name": "stdout",
          "text": [
            "Requirement already satisfied: flask in /usr/local/lib/python3.11/dist-packages (3.1.1)\n",
            "Collecting pyngrok\n",
            "  Downloading pyngrok-7.2.12-py3-none-any.whl.metadata (9.4 kB)\n",
            "Requirement already satisfied: blinker>=1.9.0 in /usr/local/lib/python3.11/dist-packages (from flask) (1.9.0)\n",
            "Requirement already satisfied: click>=8.1.3 in /usr/local/lib/python3.11/dist-packages (from flask) (8.2.1)\n",
            "Requirement already satisfied: itsdangerous>=2.2.0 in /usr/local/lib/python3.11/dist-packages (from flask) (2.2.0)\n",
            "Requirement already satisfied: jinja2>=3.1.2 in /usr/local/lib/python3.11/dist-packages (from flask) (3.1.6)\n",
            "Requirement already satisfied: markupsafe>=2.1.1 in /usr/local/lib/python3.11/dist-packages (from flask) (3.0.2)\n",
            "Requirement already satisfied: werkzeug>=3.1.0 in /usr/local/lib/python3.11/dist-packages (from flask) (3.1.3)\n",
            "Requirement already satisfied: PyYAML>=5.1 in /usr/local/lib/python3.11/dist-packages (from pyngrok) (6.0.2)\n",
            "Downloading pyngrok-7.2.12-py3-none-any.whl (26 kB)\n",
            "Installing collected packages: pyngrok\n",
            "Successfully installed pyngrok-7.2.12\n"
          ]
        }
      ],
      "source": [
        "!pip install flask pyngrok"
      ]
    },
    {
      "cell_type": "code",
      "source": [
        "!ngrok config add-authtoken 261FpEwUH0gqBvM60vQWoJTop61_6Tc3cbQaS2WnRdFAS6GeM"
      ],
      "metadata": {
        "colab": {
          "base_uri": "https://localhost:8080/"
        },
        "id": "aiYQCW01H5zT",
        "outputId": "dfe49d57-dcb3-4a29-d826-786257bf9f6e"
      },
      "execution_count": null,
      "outputs": [
        {
          "output_type": "stream",
          "name": "stdout",
          "text": [
            "Authtoken saved to configuration file: /root/.config/ngrok/ngrok.yml\n"
          ]
        }
      ]
    },
    {
      "cell_type": "markdown",
      "source": [
        "#2. fastapi 설치\n",
        "- fastapi :  REST API 서버 개발, 머신러닝 모델 서빙 API, 실시간 데이터 처리 API\n",
        "- uvicorn :  FastAPI를 실행시키는 ASGI 서버(웹 서버, Asynchronous Server Gateway Interface, WSGI(Web Server Gateway Interface)의 비동기 버전으로 Python 웹 서버(예: uvicorn)와 웹 프레임워크(예: FastAPI) 사이의 표준 인터페이스)\n",
        "- nest-asyncio : Jupyter/Colab 같은 이미 asyncio(비동기 I/O 작업을 처리하기 위한 기반 프레임워크) 루프가 돌아가는 환경에서\n",
        "추가로 asyncio 서버(FastAPI 등)를 중복으로 실행할 수 있도록 도와주는 패치 도구,\n",
        "Colab, Jupyter, Spyder 등에서 uvicorn.run() 직접 실행 가능하게 해줌"
      ],
      "metadata": {
        "id": "QkWo3EIf90ph"
      }
    },
    {
      "cell_type": "code",
      "source": [
        "!pip install fastapi uvicorn nest-asyncio"
      ],
      "metadata": {
        "colab": {
          "base_uri": "https://localhost:8080/"
        },
        "id": "fhrxkWXwGQRL",
        "outputId": "3d15c53e-322e-4c0f-8c66-78a1ed5503d0"
      },
      "execution_count": null,
      "outputs": [
        {
          "output_type": "stream",
          "name": "stdout",
          "text": [
            "Requirement already satisfied: fastapi in /usr/local/lib/python3.11/dist-packages (0.116.1)\n",
            "Requirement already satisfied: uvicorn in /usr/local/lib/python3.11/dist-packages (0.35.0)\n",
            "Requirement already satisfied: nest-asyncio in /usr/local/lib/python3.11/dist-packages (1.6.0)\n",
            "Requirement already satisfied: starlette<0.48.0,>=0.40.0 in /usr/local/lib/python3.11/dist-packages (from fastapi) (0.47.2)\n",
            "Requirement already satisfied: pydantic!=1.8,!=1.8.1,!=2.0.0,!=2.0.1,!=2.1.0,<3.0.0,>=1.7.4 in /usr/local/lib/python3.11/dist-packages (from fastapi) (2.11.7)\n",
            "Requirement already satisfied: typing-extensions>=4.8.0 in /usr/local/lib/python3.11/dist-packages (from fastapi) (4.14.1)\n",
            "Requirement already satisfied: click>=7.0 in /usr/local/lib/python3.11/dist-packages (from uvicorn) (8.2.1)\n",
            "Requirement already satisfied: h11>=0.8 in /usr/local/lib/python3.11/dist-packages (from uvicorn) (0.16.0)\n",
            "Requirement already satisfied: annotated-types>=0.6.0 in /usr/local/lib/python3.11/dist-packages (from pydantic!=1.8,!=1.8.1,!=2.0.0,!=2.0.1,!=2.1.0,<3.0.0,>=1.7.4->fastapi) (0.7.0)\n",
            "Requirement already satisfied: pydantic-core==2.33.2 in /usr/local/lib/python3.11/dist-packages (from pydantic!=1.8,!=1.8.1,!=2.0.0,!=2.0.1,!=2.1.0,<3.0.0,>=1.7.4->fastapi) (2.33.2)\n",
            "Requirement already satisfied: typing-inspection>=0.4.0 in /usr/local/lib/python3.11/dist-packages (from pydantic!=1.8,!=1.8.1,!=2.0.0,!=2.0.1,!=2.1.0,<3.0.0,>=1.7.4->fastapi) (0.4.1)\n",
            "Requirement already satisfied: anyio<5,>=3.6.2 in /usr/local/lib/python3.11/dist-packages (from starlette<0.48.0,>=0.40.0->fastapi) (4.9.0)\n",
            "Requirement already satisfied: idna>=2.8 in /usr/local/lib/python3.11/dist-packages (from anyio<5,>=3.6.2->starlette<0.48.0,>=0.40.0->fastapi) (3.10)\n",
            "Requirement already satisfied: sniffio>=1.1 in /usr/local/lib/python3.11/dist-packages (from anyio<5,>=3.6.2->starlette<0.48.0,>=0.40.0->fastapi) (1.3.1)\n"
          ]
        }
      ]
    },
    {
      "cell_type": "code",
      "source": [
        "from fastapi import FastAPI\n",
        "from fastapi.responses import JSONResponse\n",
        "from pyngrok import ngrok\n",
        "import nest_asyncio\n",
        "import uvicorn\n",
        "import threading"
      ],
      "metadata": {
        "id": "MJlX-pZ3_Xx_"
      },
      "execution_count": null,
      "outputs": []
    },
    {
      "cell_type": "code",
      "source": [
        "# FastAPI 앱 정의\n",
        "app = FastAPI()\n",
        "\n",
        "@app.get(\"/\")\n",
        "def read_root():\n",
        "    return {\"message\": \"Hello from FastAPI + ngrok!\"}\n",
        "\n",
        "@app.get(\"/hello\")\n",
        "def say_hello(name: str = \"world\"):\n",
        "    return {\"greeting\": f\"Hello, {name}!\"}\n",
        "\n",
        "# asyncio 루프 재설정\n",
        "nest_asyncio.apply()\n",
        "\n",
        "# FastAPI 서버 실행 함수\n",
        "def run():\n",
        "    uvicorn.run(app, host=\"0.0.0.0\", port=8000)\n",
        "\n",
        "# 서버를 백그라운드에서 실행\n",
        "threading.Thread(target=run).start()\n",
        "\n",
        "# ngrok으로 8000 포트 열기\n",
        "public_url = ngrok.connect(8000)\n",
        "print(\"Public URL:\", public_url)\n"
      ],
      "metadata": {
        "colab": {
          "base_uri": "https://localhost:8080/"
        },
        "id": "yEfKfzR7Fyuz",
        "outputId": "4b5da125-2f1d-4156-958a-4106d0534f82"
      },
      "execution_count": null,
      "outputs": [
        {
          "output_type": "stream",
          "name": "stderr",
          "text": [
            "INFO:     Started server process [455]\n",
            "INFO:     Waiting for application startup.\n",
            "INFO:     Application startup complete.\n",
            "INFO:     Uvicorn running on http://0.0.0.0:8000 (Press CTRL+C to quit)\n"
          ]
        },
        {
          "output_type": "stream",
          "name": "stdout",
          "text": [
            "Public URL: NgrokTunnel: \"https://a9c74e4a8940.ngrok-free.app\" -> \"http://localhost:8000\"\n"
          ]
        }
      ]
    },
    {
      "cell_type": "code",
      "source": [
        "public_url.public_url"
      ],
      "metadata": {
        "colab": {
          "base_uri": "https://localhost:8080/",
          "height": 36
        },
        "id": "ahT9YXR5AcTC",
        "outputId": "f8e5abe0-362f-45c0-bf7e-29bf7ebe81c4"
      },
      "execution_count": null,
      "outputs": [
        {
          "output_type": "execute_result",
          "data": {
            "text/plain": [
              "'https://a9c74e4a8940.ngrok-free.app'"
            ],
            "application/vnd.google.colaboratory.intrinsic+json": {
              "type": "string"
            }
          },
          "metadata": {},
          "execution_count": 10
        }
      ]
    },
    {
      "cell_type": "markdown",
      "source": [
        "- pydantic"
      ],
      "metadata": {
        "id": "j8-a8olWGh7P"
      }
    },
    {
      "cell_type": "code",
      "source": [
        "from pydantic import BaseModel\n",
        "\n",
        "class User(BaseModel):    #BaseModel 상속\n",
        "    name: str\n",
        "    age: int\n",
        "\n",
        "data = {\"name\": \"Alice\", \"age\": \"25\"}  # 문자열 \"25\"도 int로 변환됨\n",
        "user = User(**data) #User(name='Alice', age='25')와 같은 효과. data 딕셔너리의 키-값 쌍을 User 클래스의 생성자에 키워드 인수(keyword arguments) 로 전달\n",
        "print(user)\n"
      ],
      "metadata": {
        "colab": {
          "base_uri": "https://localhost:8080/"
        },
        "id": "oItVKUQ7GjTu",
        "outputId": "bd0171e0-e59a-4efb-8462-f47eb2ca310b"
      },
      "execution_count": 7,
      "outputs": [
        {
          "output_type": "stream",
          "name": "stdout",
          "text": [
            "name='Alice' age=25\n"
          ]
        }
      ]
    },
    {
      "cell_type": "code",
      "source": [
        "user.model_dump() #user.dict()\n",
        "user.model_dump_json()"
      ],
      "metadata": {
        "colab": {
          "base_uri": "https://localhost:8080/",
          "height": 36
        },
        "id": "y6vxzcDqhvBP",
        "outputId": "08181a60-76bd-44e7-afe4-49f0bba0c363"
      },
      "execution_count": 12,
      "outputs": [
        {
          "output_type": "execute_result",
          "data": {
            "text/plain": [
              "'{\"name\":\"Alice\",\"age\":25}'"
            ],
            "application/vnd.google.colaboratory.intrinsic+json": {
              "type": "string"
            }
          },
          "metadata": {},
          "execution_count": 12
        }
      ]
    },
    {
      "cell_type": "code",
      "source": [
        "from fastapi import FastAPI\n",
        "from pydantic import BaseModel\n",
        "\n",
        "app = FastAPI()\n",
        "\n",
        "class IrisInput(BaseModel):\n",
        "    sepal_length: float\n",
        "    sepal_width: float\n",
        "    petal_length: float\n",
        "    petal_width: float\n",
        "\n",
        "@app.post(\"/predict\")\n",
        "def predict(data: IrisInput):   #data는 IrisInput이어야 함, 타잎 힌트\n",
        "    return {\"received\": data.dict()}"
      ],
      "metadata": {
        "id": "fG-3PmYGGkk2"
      },
      "execution_count": null,
      "outputs": []
    },
    {
      "cell_type": "code",
      "source": [
        "from pydantic import BaseModel, Field\n",
        "\n",
        "class Product(BaseModel):\n",
        "    name: str = Field(..., min_length=2)      #Field()는 필드에 대해 기본값 설정 + 제약조건(validation rule) 을 명시, ...는 이 필드가 필수(required)임 의미\n",
        "    price: float = Field(..., gt=0)"
      ],
      "metadata": {
        "id": "3QosQbgmG0N8"
      },
      "execution_count": null,
      "outputs": []
    },
    {
      "cell_type": "markdown",
      "source": [
        "- pydantic의 Field 옵션\n",
        " - default:\t기본값 설정 (또는 ...로 필수 지정), 예:\tField(10) or Field(...)\n",
        " - title:\t필드 제목 (문서화에 사용됨), 예:\t\tField(..., title=\"Product Name\")\n",
        " - description:\t설명 (API 문서 등에 활용됨), 예:\t\tField(..., description=\"제품 이름\")\n",
        " - min_length:\t최소 문자열 길이, 예:\t\tField(..., min_length=3)\n",
        " - max_length:\t최대 문자열 길이, 예:\t\tField(..., max_length=20)\n",
        " - gt\t(greater than): 이 값보다 커야 함, 예:\t\tField(..., gt=0)\n",
        " - ge\t(greater or equal): 이상, 예:\t\tField(..., ge=0)\n",
        " - lt\t(less than): 미만, 예:\t\tField(..., lt=100)\n",
        " - le\t(less or equal): 이하, 예:\t\tField(..., le=100)\n",
        " - regex:\t문자열 정규표현식 검증, 예:\t\tField(..., regex=\"^item_[0-9]+$\")\n",
        " - example:\tOpenAPI 문서에서 예시로 보여줄 값, 예:\t\tField(..., example=\"TV\")\n",
        " - alias:\tJSON 키와 다른 필드명을 사용할 때, 예:\t\tField(..., alias=\"product_name\")\n",
        " - deprecated:\t더 이상 사용되지 않음을 명시, 예:\t (OpenAPI 문서에서 표시됨)\tField(..., deprecated=True)"
      ],
      "metadata": {
        "id": "9Etud6liiZzz"
      }
    },
    {
      "cell_type": "code",
      "source": [
        "# 유효한 입력 예:\n",
        "{\"name\": \"TV\", \"price\": 999.99}\n",
        "\n",
        "# 유효하지 않은 입력 예:\n",
        "{\"name\": \"\", \"price\": -3}"
      ],
      "metadata": {
        "colab": {
          "base_uri": "https://localhost:8080/"
        },
        "id": "O5AVoK2lG23_",
        "outputId": "faa57742-acdb-4ddc-dc5c-d7a4e4f9e440"
      },
      "execution_count": null,
      "outputs": [
        {
          "output_type": "execute_result",
          "data": {
            "text/plain": [
              "{'name': '', 'price': -3}"
            ]
          },
          "metadata": {},
          "execution_count": 8
        }
      ]
    },
    {
      "cell_type": "code",
      "source": [
        "{\n",
        "  \"detail\": [\n",
        "    {\n",
        "      \"loc\": [\"body\", \"name\"],\n",
        "      \"msg\": \"ensure this value has at least 2 characters\",\n",
        "      \"type\": \"value_error.any_str.min_length\",\n",
        "    },\n",
        "    {\n",
        "      \"loc\": [\"body\", \"price\"],\n",
        "      \"msg\": \"ensure this value is greater than 0\",\n",
        "      \"type\": \"value_error.number.not_gt\"\n",
        "    }\n",
        "  ]\n",
        "}\n"
      ],
      "metadata": {
        "colab": {
          "base_uri": "https://localhost:8080/"
        },
        "id": "ZSbVz2TVG6xP",
        "outputId": "aac62d9e-9b51-4ee4-8c36-0ff76f45d743"
      },
      "execution_count": null,
      "outputs": [
        {
          "output_type": "execute_result",
          "data": {
            "text/plain": [
              "{'detail': [{'loc': ['body', 'name'],\n",
              "   'msg': 'ensure this value has at least 2 characters',\n",
              "   'type': 'value_error.any_str.min_length'},\n",
              "  {'loc': ['body', 'price'],\n",
              "   'msg': 'ensure this value is greater than 0',\n",
              "   'type': 'value_error.number.not_gt'}]}"
            ]
          },
          "metadata": {},
          "execution_count": 7
        }
      ]
    },
    {
      "cell_type": "code",
      "source": [
        "user = User(name=\"Bob\", age=40)\n",
        "print(user.dict())   #  {'name': 'Bob', 'age': 40}  #model_dump()\n",
        "print(user.json())   # '{\"name\": \"Bob\", \"age\": 40}' #model_dump_json()"
      ],
      "metadata": {
        "colab": {
          "base_uri": "https://localhost:8080/"
        },
        "id": "LEz7dRhRHMzU",
        "outputId": "97ff27d2-34a2-4ff3-9ebe-51b4d3ea16e0"
      },
      "execution_count": null,
      "outputs": [
        {
          "output_type": "stream",
          "name": "stdout",
          "text": [
            "{'name': 'Bob', 'age': 40}\n",
            "{\"name\":\"Bob\",\"age\":40}\n"
          ]
        },
        {
          "output_type": "stream",
          "name": "stderr",
          "text": [
            "/tmp/ipython-input-1380281954.py:2: PydanticDeprecatedSince20: The `dict` method is deprecated; use `model_dump` instead. Deprecated in Pydantic V2.0 to be removed in V3.0. See Pydantic V2 Migration Guide at https://errors.pydantic.dev/2.11/migration/\n",
            "  print(user.dict())   #  {'name': 'Bob', 'age': 40}  #model_dump()\n",
            "/tmp/ipython-input-1380281954.py:3: PydanticDeprecatedSince20: The `json` method is deprecated; use `model_dump_json` instead. Deprecated in Pydantic V2.0 to be removed in V3.0. See Pydantic V2 Migration Guide at https://errors.pydantic.dev/2.11/migration/\n",
            "  print(user.json())   # '{\"name\": \"Bob\", \"age\": 40}' #model_dump_json()\n"
          ]
        }
      ]
    },
    {
      "cell_type": "markdown",
      "source": [
        "#3. fastapi 응용\n",
        "- 런타임 재시작 후 실행"
      ],
      "metadata": {
        "id": "VnEOwusJ_lQ2"
      }
    },
    {
      "cell_type": "code",
      "source": [
        "from fastapi import FastAPI\n",
        "from pydantic import BaseModel\n",
        "from sklearn.datasets import load_iris\n",
        "from sklearn.tree import DecisionTreeClassifier\n",
        "from pyngrok import ngrok\n",
        "from typing import List\n",
        "import uvicorn\n",
        "import nest_asyncio\n",
        "import threading\n",
        "\n",
        "# -------------------\n",
        "# 1. 모델 학습\n",
        "# -------------------\n",
        "iris = load_iris()\n",
        "X, y = iris.data, iris.target\n",
        "\n",
        "model = DecisionTreeClassifier()\n",
        "model.fit(X, y)\n",
        "\n",
        "# -------------------\n",
        "# 2. FastAPI 정의\n",
        "# -------------------\n",
        "app = FastAPI()\n",
        "\n",
        "class ListInput(BaseModel):\n",
        "    values: List[float]\n",
        "\n",
        "class IrisInput(BaseModel):\n",
        "    sepal_length: float\n",
        "    sepal_width: float\n",
        "    petal_length: float\n",
        "    petal_width: float\n",
        "\n",
        "@app.post(\"/predict\")\n",
        "def predict(data: IrisInput):\n",
        "    input_data = [[\n",
        "        data.sepal_length,\n",
        "        data.sepal_width,\n",
        "        data.petal_length,\n",
        "        data.petal_width\n",
        "    ]]\n",
        "    prediction = model.predict(input_data)[0]\n",
        "    label = iris.target_names[prediction]\n",
        "    return {\"prediction\": int(prediction), \"label\": label}\n",
        "\n",
        "@app.post(\"/predict2\")\n",
        "def predict(data: ListInput):\n",
        "    prediction = model.predict([data.values])[0]\n",
        "    label = iris.target_names[prediction]\n",
        "    return {\"prediction\": int(prediction), \"label\": label}\n",
        "\n",
        "# -------------------\n",
        "# 3. 서버 실행 및 ngrok 연결\n",
        "# -------------------\n",
        "nest_asyncio.apply()\n",
        "def run():\n",
        "    uvicorn.run(app, host=\"0.0.0.0\", port=8000)\n",
        "threading.Thread(target=run).start()\n",
        "public_url = ngrok.connect(8000)\n",
        "print(f\"Public FastAPI URL: {public_url}\")\n"
      ],
      "metadata": {
        "colab": {
          "base_uri": "https://localhost:8080/"
        },
        "id": "DMimk3DYJda6",
        "outputId": "4fbde912-1dab-475e-d6ed-ba6d10f30c54"
      },
      "execution_count": null,
      "outputs": [
        {
          "output_type": "stream",
          "name": "stderr",
          "text": [
            "INFO:     Started server process [5502]\n",
            "INFO:     Waiting for application startup.\n",
            "INFO:     Application startup complete.\n",
            "INFO:     Uvicorn running on http://0.0.0.0:8000 (Press CTRL+C to quit)\n"
          ]
        },
        {
          "output_type": "stream",
          "name": "stdout",
          "text": [
            "Public FastAPI URL: NgrokTunnel: \"https://7fe4b686bd40.ngrok-free.app\" -> \"http://localhost:8000\"\n"
          ]
        }
      ]
    },
    {
      "cell_type": "code",
      "source": [
        "public_url.public_url+\"/docs\"  #swagger ui"
      ],
      "metadata": {
        "colab": {
          "base_uri": "https://localhost:8080/",
          "height": 36
        },
        "id": "mC93TrQoFXVe",
        "outputId": "30470c94-e153-4279-dfed-c9283ad2e877"
      },
      "execution_count": null,
      "outputs": [
        {
          "output_type": "execute_result",
          "data": {
            "text/plain": [
              "'https://7fe4b686bd40.ngrok-free.app/docs'"
            ],
            "application/vnd.google.colaboratory.intrinsic+json": {
              "type": "string"
            }
          },
          "metadata": {},
          "execution_count": 4
        }
      ]
    },
    {
      "cell_type": "markdown",
      "source": [
        "- api 사용"
      ],
      "metadata": {
        "id": "XiZAFlFrADWz"
      }
    },
    {
      "cell_type": "code",
      "source": [
        "import requests\n",
        "\n",
        "url = public_url.public_url+\"/predict\"\n",
        "X_new = {\n",
        "    \"sepal_length\": 5.1,\n",
        "    \"sepal_width\": 3.5,\n",
        "    \"petal_length\": 1.4,\n",
        "    \"petal_width\": 0.2\n",
        "}\n",
        "\n",
        "response = requests.post(url, json=X_new)\n",
        "print(response.json())"
      ],
      "metadata": {
        "colab": {
          "base_uri": "https://localhost:8080/"
        },
        "id": "KUlqawSTJkXx",
        "outputId": "e9a03036-4c88-450c-e92f-11e4b54c7447"
      },
      "execution_count": null,
      "outputs": [
        {
          "output_type": "stream",
          "name": "stdout",
          "text": [
            "INFO:     34.74.1.41:0 - \"POST /predict HTTP/1.1\" 200 OK\n",
            "{'prediction': 0, 'label': 'setosa'}\n"
          ]
        }
      ]
    },
    {
      "cell_type": "code",
      "source": [
        "import requests\n",
        "\n",
        "url = public_url.public_url+\"/predict2\"\n",
        "X_new = {\"values\": [5.1, 3.5, 1.4, 0.2]}\n",
        "response = requests.post(url, json=X_new)\n",
        "print(response.json())"
      ],
      "metadata": {
        "colab": {
          "base_uri": "https://localhost:8080/"
        },
        "id": "H_azVx1qCHO7",
        "outputId": "93f85eb4-1a0f-4fff-c352-01ae9246bee0"
      },
      "execution_count": null,
      "outputs": [
        {
          "output_type": "stream",
          "name": "stdout",
          "text": [
            "INFO:     34.74.1.41:0 - \"POST /predict2 HTTP/1.1\" 200 OK\n",
            "{'prediction': 0, 'label': 'setosa'}\n"
          ]
        }
      ]
    }
  ]
}