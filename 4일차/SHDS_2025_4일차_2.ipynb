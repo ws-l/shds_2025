{
  "nbformat": 4,
  "nbformat_minor": 0,
  "metadata": {
    "colab": {
      "provenance": []
    },
    "kernelspec": {
      "name": "python3",
      "display_name": "Python 3"
    },
    "language_info": {
      "name": "python"
    }
  },
  "cells": [
    {
      "cell_type": "markdown",
      "source": [
        "##1. 설치"
      ],
      "metadata": {
        "id": "Ei4iOp9W7QnW"
      }
    },
    {
      "cell_type": "code",
      "execution_count": 1,
      "metadata": {
        "colab": {
          "base_uri": "https://localhost:8080/"
        },
        "id": "NEV6fBi5SVtl",
        "outputId": "70ab9493-5e50-45d6-ccd0-43559ea98f73"
      },
      "outputs": [
        {
          "output_type": "stream",
          "name": "stdout",
          "text": [
            "Requirement already satisfied: fastapi in /usr/local/lib/python3.11/dist-packages (0.116.1)\n",
            "Requirement already satisfied: uvicorn in /usr/local/lib/python3.11/dist-packages (0.35.0)\n",
            "Requirement already satisfied: nest-asyncio in /usr/local/lib/python3.11/dist-packages (1.6.0)\n",
            "Requirement already satisfied: flask in /usr/local/lib/python3.11/dist-packages (3.1.1)\n",
            "Collecting pyngrok\n",
            "  Downloading pyngrok-7.3.0-py3-none-any.whl.metadata (8.1 kB)\n",
            "Collecting flask_ngrok\n",
            "  Downloading flask_ngrok-0.0.25-py3-none-any.whl.metadata (1.8 kB)\n",
            "Requirement already satisfied: starlette<0.48.0,>=0.40.0 in /usr/local/lib/python3.11/dist-packages (from fastapi) (0.47.2)\n",
            "Requirement already satisfied: pydantic!=1.8,!=1.8.1,!=2.0.0,!=2.0.1,!=2.1.0,<3.0.0,>=1.7.4 in /usr/local/lib/python3.11/dist-packages (from fastapi) (2.11.7)\n",
            "Requirement already satisfied: typing-extensions>=4.8.0 in /usr/local/lib/python3.11/dist-packages (from fastapi) (4.14.1)\n",
            "Requirement already satisfied: click>=7.0 in /usr/local/lib/python3.11/dist-packages (from uvicorn) (8.2.1)\n",
            "Requirement already satisfied: h11>=0.8 in /usr/local/lib/python3.11/dist-packages (from uvicorn) (0.16.0)\n",
            "Requirement already satisfied: blinker>=1.9.0 in /usr/local/lib/python3.11/dist-packages (from flask) (1.9.0)\n",
            "Requirement already satisfied: itsdangerous>=2.2.0 in /usr/local/lib/python3.11/dist-packages (from flask) (2.2.0)\n",
            "Requirement already satisfied: jinja2>=3.1.2 in /usr/local/lib/python3.11/dist-packages (from flask) (3.1.6)\n",
            "Requirement already satisfied: markupsafe>=2.1.1 in /usr/local/lib/python3.11/dist-packages (from flask) (3.0.2)\n",
            "Requirement already satisfied: werkzeug>=3.1.0 in /usr/local/lib/python3.11/dist-packages (from flask) (3.1.3)\n",
            "Requirement already satisfied: PyYAML>=5.1 in /usr/local/lib/python3.11/dist-packages (from pyngrok) (6.0.2)\n",
            "Requirement already satisfied: requests in /usr/local/lib/python3.11/dist-packages (from flask_ngrok) (2.32.3)\n",
            "Requirement already satisfied: annotated-types>=0.6.0 in /usr/local/lib/python3.11/dist-packages (from pydantic!=1.8,!=1.8.1,!=2.0.0,!=2.0.1,!=2.1.0,<3.0.0,>=1.7.4->fastapi) (0.7.0)\n",
            "Requirement already satisfied: pydantic-core==2.33.2 in /usr/local/lib/python3.11/dist-packages (from pydantic!=1.8,!=1.8.1,!=2.0.0,!=2.0.1,!=2.1.0,<3.0.0,>=1.7.4->fastapi) (2.33.2)\n",
            "Requirement already satisfied: typing-inspection>=0.4.0 in /usr/local/lib/python3.11/dist-packages (from pydantic!=1.8,!=1.8.1,!=2.0.0,!=2.0.1,!=2.1.0,<3.0.0,>=1.7.4->fastapi) (0.4.1)\n",
            "Requirement already satisfied: anyio<5,>=3.6.2 in /usr/local/lib/python3.11/dist-packages (from starlette<0.48.0,>=0.40.0->fastapi) (4.9.0)\n",
            "Requirement already satisfied: charset-normalizer<4,>=2 in /usr/local/lib/python3.11/dist-packages (from requests->flask_ngrok) (3.4.2)\n",
            "Requirement already satisfied: idna<4,>=2.5 in /usr/local/lib/python3.11/dist-packages (from requests->flask_ngrok) (3.10)\n",
            "Requirement already satisfied: urllib3<3,>=1.21.1 in /usr/local/lib/python3.11/dist-packages (from requests->flask_ngrok) (2.5.0)\n",
            "Requirement already satisfied: certifi>=2017.4.17 in /usr/local/lib/python3.11/dist-packages (from requests->flask_ngrok) (2025.7.14)\n",
            "Requirement already satisfied: sniffio>=1.1 in /usr/local/lib/python3.11/dist-packages (from anyio<5,>=3.6.2->starlette<0.48.0,>=0.40.0->fastapi) (1.3.1)\n",
            "Downloading pyngrok-7.3.0-py3-none-any.whl (25 kB)\n",
            "Downloading flask_ngrok-0.0.25-py3-none-any.whl (3.1 kB)\n",
            "Installing collected packages: pyngrok, flask_ngrok\n",
            "Successfully installed flask_ngrok-0.0.25 pyngrok-7.3.0\n"
          ]
        }
      ],
      "source": [
        "!pip install fastapi uvicorn nest-asyncio flask pyngrok flask_ngrok"
      ]
    },
    {
      "cell_type": "code",
      "source": [
        "!ngrok config add-authtoken 30s47Zrpt0z8JIXJRCLMMklctLS_43GWGBsYeAL5k558po9Xo"
      ],
      "metadata": {
        "id": "aiYQCW01H5zT",
        "colab": {
          "base_uri": "https://localhost:8080/"
        },
        "outputId": "1d2ed5cf-0a40-40ae-a66d-449d86d59976"
      },
      "execution_count": 2,
      "outputs": [
        {
          "output_type": "stream",
          "name": "stdout",
          "text": [
            "Authtoken saved to configuration file: /root/.config/ngrok/ngrok.yml\n"
          ]
        }
      ]
    },
    {
      "cell_type": "markdown",
      "source": [
        "https://dashboard.ngrok.com/agents"
      ],
      "metadata": {
        "id": "GQS7qLZKTGAH"
      }
    },
    {
      "cell_type": "markdown",
      "source": [
        "## 2. flask"
      ],
      "metadata": {
        "id": "r3duAHmnToq3"
      }
    },
    {
      "cell_type": "code",
      "source": [
        "template = \"\"\"\n",
        "<!DOCTYPE html>\n",
        "<html>\n",
        "<head>\n",
        "    <title>주가 예측</title>\n",
        "</head>\n",
        "<body>\n",
        "    <h2>종가 예측 (t-1, t-2, t-3 → t)</h2>\n",
        "\n",
        "    <h3>1. 모델 학습</h3>\n",
        "    <form action=\"/train\" method=\"post\">\n",
        "        티커: <input type=\"text\" name=\"ticker\" value=\"AAPL\"><br>\n",
        "        기간: <input type=\"text\" name=\"period\" value=\"6mo\"><br>\n",
        "        <button type=\"submit\">학습하기</button>\n",
        "    </form>\n",
        "\n",
        "    <h3>2. 예측하기</h3>\n",
        "    <form action=\"/predict\" method=\"post\">\n",
        "        t-1: <input type=\"text\" name=\"t1\"><br>\n",
        "        t-2: <input type=\"text\" name=\"t2\"><br>\n",
        "        t-3: <input type=\"text\" name=\"t3\"><br>\n",
        "        <button type=\"submit\">예측</button>\n",
        "    </form>\n",
        "</body>\n",
        "</html>\n",
        "\"\"\""
      ],
      "metadata": {
        "id": "mHHhUMtk1nwY"
      },
      "execution_count": 1,
      "outputs": []
    },
    {
      "cell_type": "code",
      "source": [
        "import nest_asyncio\n",
        "import yfinance as yf\n",
        "import pickle\n",
        "import threading\n",
        "from flask import Flask, request, render_template_string\n",
        "from pyngrok import ngrok\n",
        "from sklearn.ensemble import RandomForestRegressor\n",
        "\n",
        "# 중복 실행 방지\n",
        "nest_asyncio.apply()\n",
        "\n",
        "# Flask 앱 정의\n",
        "app = Flask(__name__)\n",
        "\n",
        "@app.route('/')\n",
        "def home():\n",
        "    return render_template_string(template)\n",
        "\n",
        "# ngrok으로 포트 5000 노출\n",
        "public_url = ngrok.connect(5000)\n",
        "print(f\"🔗 Public URL: {public_url}\")\n",
        "\n",
        "def run_flask():\n",
        "    app.run(port=5000)\n",
        "\n",
        "# 쓰레드로 실행\n",
        "threading.Thread(target=run_flask).start()\n"
      ],
      "metadata": {
        "colab": {
          "base_uri": "https://localhost:8080/"
        },
        "id": "8ng9SIafhhlG",
        "outputId": "8b1bae99-b858-4738-fb03-e277b3fff0b3"
      },
      "execution_count": 3,
      "outputs": [
        {
          "output_type": "stream",
          "name": "stdout",
          "text": [
            "🔗 Public URL: NgrokTunnel: \"https://3a0ba9f3561f.ngrok.app\" -> \"http://localhost:5000\"\n",
            " * Serving Flask app '__main__'\n",
            " * Debug mode: off\n"
          ]
        },
        {
          "output_type": "stream",
          "name": "stderr",
          "text": [
            "Address already in use\n",
            "Port 5000 is in use by another program. Either identify and stop that program, or start the server with a different port.\n"
          ]
        }
      ]
    },
    {
      "cell_type": "markdown",
      "source": [
        "##3.routing 추가"
      ],
      "metadata": {
        "id": "jLRtuvNl7IRk"
      }
    },
    {
      "cell_type": "code",
      "source": [
        "import nest_asyncio\n",
        "import yfinance as yf\n",
        "import pickle\n",
        "import threading\n",
        "from flask import Flask, request, render_template_string\n",
        "from pyngrok import ngrok\n",
        "from sklearn.ensemble import RandomForestRegressor\n",
        "\n",
        "# 중복 실행 방지\n",
        "nest_asyncio.apply()\n",
        "\n",
        "# Flask 앱 정의\n",
        "app = Flask(__name__)\n",
        "\n",
        "@app.route('/')\n",
        "def home():\n",
        "    return render_template_string(template)\n",
        "\n",
        "@app.route('/train', methods=['POST'])\n",
        "def train():\n",
        "    ticker = request.form.get('ticker', 'AAPL')\n",
        "    period = request.form.get('period', '6mo')\n",
        "\n",
        "    df = yf.download(ticker, period=period)\n",
        "    df = df[[\"Close\"]]\n",
        "    df[\"t-1\"] = df[\"Close\"].shift(1)\n",
        "    df[\"t-2\"] = df[\"Close\"].shift(2)\n",
        "    df[\"t-3\"] = df[\"Close\"].shift(3)\n",
        "    df[\"target\"] = df[\"Close\"]\n",
        "    df.dropna(inplace=True)\n",
        "\n",
        "    X = df[[\"t-1\", \"t-2\", \"t-3\"]]\n",
        "    y = df[\"target\"]\n",
        "\n",
        "    model = RandomForestRegressor()\n",
        "    model.fit(X, y)\n",
        "    with open(\"model.pkl\", \"wb\") as f:\n",
        "        pickle.dump(model, f)\n",
        "\n",
        "    return f\"{ticker} 종목에 대해 {period} 기간으로 {len(X)}건 학습 완료\"\n",
        "\n",
        "@app.route('/predict', methods=['POST'])\n",
        "def predict():\n",
        "    try:\n",
        "        t1 = float(request.form.get('t1', 0))\n",
        "        t2 = float(request.form.get('t2', 0))\n",
        "        t3 = float(request.form.get('t3', 0))\n",
        "        with open(\"model.pkl\", \"rb\") as f:\n",
        "            model = pickle.load(f)\n",
        "        prediction = model.predict([[t1,t2,t3]])\n",
        "        return f\"예측된 종가: {prediction}\"\n",
        "    except ValueError as e:\n",
        "        return f\"입력 오류: {e}\", 400\n",
        "\n",
        "# ngrok으로 포트 5000 노출\n",
        "public_url = ngrok.connect(5000)\n",
        "print(f\"🔗 Public URL: {public_url}\")\n",
        "\n",
        "def run_flask():\n",
        "    app.run(port=5000)\n",
        "\n",
        "# 쓰레드로 실행\n",
        "threading.Thread(target=run_flask).start()\n"
      ],
      "metadata": {
        "id": "71b2QbbzXP7h"
      },
      "execution_count": 5,
      "outputs": []
    }
  ]
}