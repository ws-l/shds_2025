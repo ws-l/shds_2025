{
  "nbformat": 4,
  "nbformat_minor": 0,
  "metadata": {
    "colab": {
      "provenance": [],
      "collapsed_sections": [
        "3jQHCxVNWpd2",
        "GfiKsvGnWtmX"
      ]
    },
    "kernelspec": {
      "name": "python3",
      "display_name": "Python 3"
    },
    "language_info": {
      "name": "python"
    }
  },
  "cells": [
    {
      "cell_type": "markdown",
      "source": [
        "1. lucas0_train.csv 파일로 lung_cancer 타겟으로 하셔서 분류모형\n",
        "- 파티셔닝\n",
        "- DT, RF, GBC 모델링 각각\n",
        "- 성능 비교\n",
        "-제일 성능 좋은 모형에 대해서 GridSearch\n",
        "\n",
        "\n",
        "\n",
        "\n",
        "\n",
        "\n",
        "\n",
        "\n",
        "\n"
      ],
      "metadata": {
        "id": "3UI9dtm4Y69n"
      }
    },
    {
      "cell_type": "code",
      "source": [
        "import pandas as pd\n",
        "df = pd.read_csv(\"lucas0_train.csv\")\n",
        "df.head()"
      ],
      "metadata": {
        "id": "ddKvkKVdEy5l"
      },
      "execution_count": null,
      "outputs": []
    },
    {
      "cell_type": "code",
      "source": [
        "from sklearn.tree import DecisionTreeClassifier\n",
        "from sklearn.ensemble import RandomForestClassifier, GradientBoostingClassifier\n",
        "from sklearn.model_selection import train_test_split\n"
      ],
      "metadata": {
        "id": "RQB4gn-XFJPd"
      },
      "execution_count": 7,
      "outputs": []
    },
    {
      "cell_type": "code",
      "source": [
        "X_train, X_test, y_train, y_test = train_test_split(df.drop(\"Lung_cancer\", axis=1),\n",
        "                                                    df.Lung_cancer, test_size=0.2,\n",
        "                                                    stratify=df.Lung_cancer,\n",
        "                                                    random_state=1)\n",
        "models = [ DecisionTreeClassifier(), RandomForestClassifier(), GradientBoostingClassifier()]\n",
        "for i in models:\n",
        "  i.fit(X_train, y_train)\n",
        "  print(i.score(X_test, y_test))"
      ],
      "metadata": {
        "id": "o7Y09ZxZFP4X"
      },
      "execution_count": null,
      "outputs": []
    },
    {
      "cell_type": "code",
      "source": [
        "from sklearn.model_selection import GridSearchCV\n",
        "\n",
        "gs = GridSearchCV(\n",
        "    estimator=GradientBoostingClassifier(),\n",
        "    param_grid = {\"n_estimators\":[50,100],\n",
        "        \"max_depth\":[5,7],\n",
        "        \"learning_rate\":[0.01, 0.005]\n",
        "    },\n",
        "    cv=3,\n",
        "    verbose=10\n",
        ")\n",
        "\n",
        "gs.fit( X_train, y_train)"
      ],
      "metadata": {
        "id": "50sAwCzzGGnl"
      },
      "execution_count": null,
      "outputs": []
    },
    {
      "cell_type": "markdown",
      "source": [
        "2. oil.csv\n",
        "- 현재 일별 유가  -> 시계열\n",
        "- 월별 유가 -> 시계열\n",
        "- prophet\n",
        "- 10건의 예측값을 계산"
      ],
      "metadata": {
        "id": "S-sZ4LnRI_K1"
      }
    },
    {
      "cell_type": "code",
      "source": [
        "df = pd.read_csv(\"oil.csv\", parse_dates=[0], index_col=[0])\n",
        "df.dropna( inplace=True)\n",
        "df.resample('M').last()   #월별\n",
        "df  #일별 시계열\n",
        "df1 = pd.DataFrame({\"y\":df.dcoilwtico, \"ds\": df.index })\n",
        "df.reset_index()\n",
        "\n",
        "from prophet import Prophet\n",
        "model = Prophet()\n",
        "model.fit(df1)\n",
        "\n",
        "future = model.make_future_dataframe(periods=10)\n",
        "forecast = model.predict(future)\n",
        "forecast.yhat"
      ],
      "metadata": {
        "colab": {
          "base_uri": "https://localhost:8080/",
          "height": 700
        },
        "id": "kmRn3qBGI_VQ",
        "outputId": "f8e1bd6c-68db-4582-8ccb-9861de46574d"
      },
      "execution_count": 23,
      "outputs": [
        {
          "output_type": "stream",
          "name": "stderr",
          "text": [
            "/tmp/ipython-input-2915021084.py:3: FutureWarning: 'M' is deprecated and will be removed in a future version, please use 'ME' instead.\n",
            "  df.resample('M').last()   #월별\n",
            "INFO:prophet:Disabling daily seasonality. Run prophet with daily_seasonality=True to override this.\n",
            "DEBUG:cmdstanpy:input tempfile: /tmp/tmpqht4klw_/_2yhm3_0.json\n",
            "DEBUG:cmdstanpy:input tempfile: /tmp/tmpqht4klw_/5pc8ovum.json\n",
            "DEBUG:cmdstanpy:idx 0\n",
            "DEBUG:cmdstanpy:running CmdStan, num_threads: None\n",
            "DEBUG:cmdstanpy:CmdStan args: ['/usr/local/lib/python3.11/dist-packages/prophet/stan_model/prophet_model.bin', 'random', 'seed=72944', 'data', 'file=/tmp/tmpqht4klw_/_2yhm3_0.json', 'init=/tmp/tmpqht4klw_/5pc8ovum.json', 'output', 'file=/tmp/tmpqht4klw_/prophet_model65zwbeip/prophet_model-20250806065534.csv', 'method=optimize', 'algorithm=lbfgs', 'iter=10000']\n",
            "06:55:34 - cmdstanpy - INFO - Chain [1] start processing\n",
            "INFO:cmdstanpy:Chain [1] start processing\n",
            "06:55:34 - cmdstanpy - INFO - Chain [1] done processing\n",
            "INFO:cmdstanpy:Chain [1] done processing\n"
          ]
        },
        {
          "output_type": "execute_result",
          "data": {
            "text/plain": [
              "0       92.669127\n",
              "1       92.551483\n",
              "2       92.330600\n",
              "3       91.777130\n",
              "4       91.725877\n",
              "          ...    \n",
              "1180    49.284434\n",
              "1181    49.358632\n",
              "1182    49.311755\n",
              "1183    46.799411\n",
              "1184    46.778739\n",
              "Name: yhat, Length: 1185, dtype: float64"
            ],
            "text/html": [
              "<div>\n",
              "<style scoped>\n",
              "    .dataframe tbody tr th:only-of-type {\n",
              "        vertical-align: middle;\n",
              "    }\n",
              "\n",
              "    .dataframe tbody tr th {\n",
              "        vertical-align: top;\n",
              "    }\n",
              "\n",
              "    .dataframe thead th {\n",
              "        text-align: right;\n",
              "    }\n",
              "</style>\n",
              "<table border=\"1\" class=\"dataframe\">\n",
              "  <thead>\n",
              "    <tr style=\"text-align: right;\">\n",
              "      <th></th>\n",
              "      <th>yhat</th>\n",
              "    </tr>\n",
              "  </thead>\n",
              "  <tbody>\n",
              "    <tr>\n",
              "      <th>0</th>\n",
              "      <td>92.669127</td>\n",
              "    </tr>\n",
              "    <tr>\n",
              "      <th>1</th>\n",
              "      <td>92.551483</td>\n",
              "    </tr>\n",
              "    <tr>\n",
              "      <th>2</th>\n",
              "      <td>92.330600</td>\n",
              "    </tr>\n",
              "    <tr>\n",
              "      <th>3</th>\n",
              "      <td>91.777130</td>\n",
              "    </tr>\n",
              "    <tr>\n",
              "      <th>4</th>\n",
              "      <td>91.725877</td>\n",
              "    </tr>\n",
              "    <tr>\n",
              "      <th>...</th>\n",
              "      <td>...</td>\n",
              "    </tr>\n",
              "    <tr>\n",
              "      <th>1180</th>\n",
              "      <td>49.284434</td>\n",
              "    </tr>\n",
              "    <tr>\n",
              "      <th>1181</th>\n",
              "      <td>49.358632</td>\n",
              "    </tr>\n",
              "    <tr>\n",
              "      <th>1182</th>\n",
              "      <td>49.311755</td>\n",
              "    </tr>\n",
              "    <tr>\n",
              "      <th>1183</th>\n",
              "      <td>46.799411</td>\n",
              "    </tr>\n",
              "    <tr>\n",
              "      <th>1184</th>\n",
              "      <td>46.778739</td>\n",
              "    </tr>\n",
              "  </tbody>\n",
              "</table>\n",
              "<p>1185 rows × 1 columns</p>\n",
              "</div><br><label><b>dtype:</b> float64</label>"
            ]
          },
          "metadata": {},
          "execution_count": 23
        }
      ]
    },
    {
      "cell_type": "markdown",
      "source": [
        "\n",
        "\n",
        "3. mortdefault.zip ->2007, 2008, 2009\n",
        "- 2007 default레코드, 같은 수의 정상레코드를\n",
        "- sample->하나의 df1, year컬럼->2007\n",
        "- df1[\"year\"] = \"2007\"\n",
        "\n",
        "- 2008년도, 2009년도 동일하게 처리\n",
        " - 세 개의 df를 하나로 합치세요 pd.concat( [df1, df2, df3]     )\n",
        "\n",
        "- creditscore, ....., default, year\n",
        "- ......................................., 2007\n",
        "- ........................................, 2008\n",
        "\n",
        "- year를 OHE / target: default/파티셔닝, DT, RF\n",
        "- feature_importances_\n"
      ],
      "metadata": {
        "id": "gkF7f04UNefV"
      }
    },
    {
      "cell_type": "code",
      "source": [
        "!unzip mortDefault.zip"
      ],
      "metadata": {
        "colab": {
          "base_uri": "https://localhost:8080/"
        },
        "id": "SAbIMEc4NexC",
        "outputId": "39222e64-61dc-4690-df24-acb4e5ebb731"
      },
      "execution_count": 25,
      "outputs": [
        {
          "output_type": "stream",
          "name": "stdout",
          "text": [
            "Archive:  mortDefault.zip\n",
            "  inflating: mortDefault2007.csv     \n",
            "  inflating: mortDefault2008.csv     \n",
            "  inflating: mortDefault2009.csv     \n"
          ]
        }
      ]
    },
    {
      "cell_type": "code",
      "source": [
        "df1 = pd.read_csv(\"mortDefault2007.csv\")\n",
        "df2 = pd.read_csv(\"mortDefault2008.csv\")\n",
        "df3 = pd.read_csv(\"mortDefault2009.csv\")"
      ],
      "metadata": {
        "id": "VFpsrMkFN0ue"
      },
      "execution_count": 26,
      "outputs": []
    },
    {
      "cell_type": "code",
      "source": [
        "df2007 = pd.concat([ df1.query( \"default==1\"),\n",
        "                    df1.query( \"default==0\").sample(df1.query( \"default==1\").shape[0])])\n",
        "\n",
        "df2008 = pd.concat([ df2.query( \"default==1\"),\n",
        "                    df2.query( \"default==0\").sample(df2.query( \"default==1\").shape[0])])\n",
        "\n",
        "df2009 = pd.concat([ df3.query( \"default==1\"),\n",
        "                    df3.query( \"default==0\").sample(df3.query( \"default==1\").shape[0])])\n",
        "df_total = pd.concat( [df2007, df2008, df2009])"
      ],
      "metadata": {
        "id": "g5iMngyjN71Q"
      },
      "execution_count": 31,
      "outputs": []
    },
    {
      "cell_type": "code",
      "source": [
        "df_total2 = pd.get_dummies( df_total, columns=[\"year\"]).head()"
      ],
      "metadata": {
        "id": "tL_Jo3FoOeFu"
      },
      "execution_count": null,
      "outputs": []
    },
    {
      "cell_type": "markdown",
      "source": [
        "4. store-sales-time-series-forecasitng.zip\n",
        "- train.csv -> id, date, store_nbr, familty, sales, onpomotion\n",
        "- date->datetime 지정\n",
        "- date->연도를 추출 year라는 컬럼\n",
        "- pivot_table\n",
        " - 행: year, 열: family, 값: sales의 합\n",
        " - 시계열->연도별로 원하시는 컬럼으로 예측\n",
        " - 연도, 월 추출->\"연도-월\"->pivot_table\n",
        "\n",
        "- train.csv와 stores.csv를 연결 merge(store_nbr) -> df\n",
        "df1.merge(df2, left_on=\"컬럼\", right_on=\"컬럼)\n",
        "\n",
        "- stores.csv -> city, type, cluster->df에서50000개 샘플링\n",
        "- 분기quarter, 요일(day_name(), city, type, cluster가 X변수, sales가 y변수\n",
        "- sales->ML regression\n",
        "\n"
      ],
      "metadata": {
        "id": "iVJTaozEEzXH"
      }
    },
    {
      "cell_type": "code",
      "execution_count": 35,
      "metadata": {
        "id": "lwxw2Y63Ms2m",
        "colab": {
          "base_uri": "https://localhost:8080/"
        },
        "outputId": "617be6e2-e276-43e5-d617-06916141537b"
      },
      "outputs": [
        {
          "output_type": "stream",
          "name": "stdout",
          "text": [
            "Archive:  store-sales-time-series-forecasting.zip\n",
            "   creating: store-sales-time-series-forecasting/\n",
            "  inflating: store-sales-time-series-forecasting/holidays_events.csv  \n",
            "  inflating: store-sales-time-series-forecasting/oil.csv  \n",
            "  inflating: store-sales-time-series-forecasting/sample_submission.csv  \n",
            "  inflating: store-sales-time-series-forecasting/stores.csv  \n",
            "  inflating: store-sales-time-series-forecasting/test.csv  \n",
            "  inflating: store-sales-time-series-forecasting/train.csv  \n",
            "  inflating: store-sales-time-series-forecasting/transactions.csv  \n"
          ]
        }
      ],
      "source": [
        "!unzip store-sales-time-series-forecasting.zip"
      ]
    },
    {
      "cell_type": "code",
      "source": [
        "import pandas as pd\n",
        "df = pd.read_csv(\"data/train.csv\")\n",
        "df.shape"
      ],
      "metadata": {
        "id": "lRfFzYZBM5A3",
        "colab": {
          "base_uri": "https://localhost:8080/"
        },
        "outputId": "4f0eeebe-5a00-4120-9829-ee88acfa10b8"
      },
      "execution_count": null,
      "outputs": [
        {
          "output_type": "execute_result",
          "data": {
            "text/plain": [
              "(3000888, 6)"
            ]
          },
          "metadata": {},
          "execution_count": 50
        }
      ]
    },
    {
      "cell_type": "code",
      "source": [
        "df.head()"
      ],
      "metadata": {
        "colab": {
          "base_uri": "https://localhost:8080/",
          "height": 206
        },
        "id": "cW5GqAR9TgeM",
        "outputId": "b3a751b8-9e21-4d8c-d74d-7aa5b9d26dad"
      },
      "execution_count": null,
      "outputs": [
        {
          "output_type": "execute_result",
          "data": {
            "text/plain": [
              "   id        date  store_nbr      family  sales  onpromotion\n",
              "0   0  2013-01-01          1  AUTOMOTIVE    0.0            0\n",
              "1   1  2013-01-01          1   BABY CARE    0.0            0\n",
              "2   2  2013-01-01          1      BEAUTY    0.0            0\n",
              "3   3  2013-01-01          1   BEVERAGES    0.0            0\n",
              "4   4  2013-01-01          1       BOOKS    0.0            0"
            ],
            "text/html": [
              "\n",
              "  <div id=\"df-ca090269-b449-4cde-a4c6-316a4a6b21c1\" class=\"colab-df-container\">\n",
              "    <div>\n",
              "<style scoped>\n",
              "    .dataframe tbody tr th:only-of-type {\n",
              "        vertical-align: middle;\n",
              "    }\n",
              "\n",
              "    .dataframe tbody tr th {\n",
              "        vertical-align: top;\n",
              "    }\n",
              "\n",
              "    .dataframe thead th {\n",
              "        text-align: right;\n",
              "    }\n",
              "</style>\n",
              "<table border=\"1\" class=\"dataframe\">\n",
              "  <thead>\n",
              "    <tr style=\"text-align: right;\">\n",
              "      <th></th>\n",
              "      <th>id</th>\n",
              "      <th>date</th>\n",
              "      <th>store_nbr</th>\n",
              "      <th>family</th>\n",
              "      <th>sales</th>\n",
              "      <th>onpromotion</th>\n",
              "    </tr>\n",
              "  </thead>\n",
              "  <tbody>\n",
              "    <tr>\n",
              "      <th>0</th>\n",
              "      <td>0</td>\n",
              "      <td>2013-01-01</td>\n",
              "      <td>1</td>\n",
              "      <td>AUTOMOTIVE</td>\n",
              "      <td>0.0</td>\n",
              "      <td>0</td>\n",
              "    </tr>\n",
              "    <tr>\n",
              "      <th>1</th>\n",
              "      <td>1</td>\n",
              "      <td>2013-01-01</td>\n",
              "      <td>1</td>\n",
              "      <td>BABY CARE</td>\n",
              "      <td>0.0</td>\n",
              "      <td>0</td>\n",
              "    </tr>\n",
              "    <tr>\n",
              "      <th>2</th>\n",
              "      <td>2</td>\n",
              "      <td>2013-01-01</td>\n",
              "      <td>1</td>\n",
              "      <td>BEAUTY</td>\n",
              "      <td>0.0</td>\n",
              "      <td>0</td>\n",
              "    </tr>\n",
              "    <tr>\n",
              "      <th>3</th>\n",
              "      <td>3</td>\n",
              "      <td>2013-01-01</td>\n",
              "      <td>1</td>\n",
              "      <td>BEVERAGES</td>\n",
              "      <td>0.0</td>\n",
              "      <td>0</td>\n",
              "    </tr>\n",
              "    <tr>\n",
              "      <th>4</th>\n",
              "      <td>4</td>\n",
              "      <td>2013-01-01</td>\n",
              "      <td>1</td>\n",
              "      <td>BOOKS</td>\n",
              "      <td>0.0</td>\n",
              "      <td>0</td>\n",
              "    </tr>\n",
              "  </tbody>\n",
              "</table>\n",
              "</div>\n",
              "    <div class=\"colab-df-buttons\">\n",
              "\n",
              "  <div class=\"colab-df-container\">\n",
              "    <button class=\"colab-df-convert\" onclick=\"convertToInteractive('df-ca090269-b449-4cde-a4c6-316a4a6b21c1')\"\n",
              "            title=\"Convert this dataframe to an interactive table.\"\n",
              "            style=\"display:none;\">\n",
              "\n",
              "  <svg xmlns=\"http://www.w3.org/2000/svg\" height=\"24px\" viewBox=\"0 -960 960 960\">\n",
              "    <path d=\"M120-120v-720h720v720H120Zm60-500h600v-160H180v160Zm220 220h160v-160H400v160Zm0 220h160v-160H400v160ZM180-400h160v-160H180v160Zm440 0h160v-160H620v160ZM180-180h160v-160H180v160Zm440 0h160v-160H620v160Z\"/>\n",
              "  </svg>\n",
              "    </button>\n",
              "\n",
              "  <style>\n",
              "    .colab-df-container {\n",
              "      display:flex;\n",
              "      gap: 12px;\n",
              "    }\n",
              "\n",
              "    .colab-df-convert {\n",
              "      background-color: #E8F0FE;\n",
              "      border: none;\n",
              "      border-radius: 50%;\n",
              "      cursor: pointer;\n",
              "      display: none;\n",
              "      fill: #1967D2;\n",
              "      height: 32px;\n",
              "      padding: 0 0 0 0;\n",
              "      width: 32px;\n",
              "    }\n",
              "\n",
              "    .colab-df-convert:hover {\n",
              "      background-color: #E2EBFA;\n",
              "      box-shadow: 0px 1px 2px rgba(60, 64, 67, 0.3), 0px 1px 3px 1px rgba(60, 64, 67, 0.15);\n",
              "      fill: #174EA6;\n",
              "    }\n",
              "\n",
              "    .colab-df-buttons div {\n",
              "      margin-bottom: 4px;\n",
              "    }\n",
              "\n",
              "    [theme=dark] .colab-df-convert {\n",
              "      background-color: #3B4455;\n",
              "      fill: #D2E3FC;\n",
              "    }\n",
              "\n",
              "    [theme=dark] .colab-df-convert:hover {\n",
              "      background-color: #434B5C;\n",
              "      box-shadow: 0px 1px 3px 1px rgba(0, 0, 0, 0.15);\n",
              "      filter: drop-shadow(0px 1px 2px rgba(0, 0, 0, 0.3));\n",
              "      fill: #FFFFFF;\n",
              "    }\n",
              "  </style>\n",
              "\n",
              "    <script>\n",
              "      const buttonEl =\n",
              "        document.querySelector('#df-ca090269-b449-4cde-a4c6-316a4a6b21c1 button.colab-df-convert');\n",
              "      buttonEl.style.display =\n",
              "        google.colab.kernel.accessAllowed ? 'block' : 'none';\n",
              "\n",
              "      async function convertToInteractive(key) {\n",
              "        const element = document.querySelector('#df-ca090269-b449-4cde-a4c6-316a4a6b21c1');\n",
              "        const dataTable =\n",
              "          await google.colab.kernel.invokeFunction('convertToInteractive',\n",
              "                                                    [key], {});\n",
              "        if (!dataTable) return;\n",
              "\n",
              "        const docLinkHtml = 'Like what you see? Visit the ' +\n",
              "          '<a target=\"_blank\" href=https://colab.research.google.com/notebooks/data_table.ipynb>data table notebook</a>'\n",
              "          + ' to learn more about interactive tables.';\n",
              "        element.innerHTML = '';\n",
              "        dataTable['output_type'] = 'display_data';\n",
              "        await google.colab.output.renderOutput(dataTable, element);\n",
              "        const docLink = document.createElement('div');\n",
              "        docLink.innerHTML = docLinkHtml;\n",
              "        element.appendChild(docLink);\n",
              "      }\n",
              "    </script>\n",
              "  </div>\n",
              "\n",
              "\n",
              "    <div id=\"df-ab637aa6-9b02-4355-9ecd-9e3c5a42a5e1\">\n",
              "      <button class=\"colab-df-quickchart\" onclick=\"quickchart('df-ab637aa6-9b02-4355-9ecd-9e3c5a42a5e1')\"\n",
              "                title=\"Suggest charts\"\n",
              "                style=\"display:none;\">\n",
              "\n",
              "<svg xmlns=\"http://www.w3.org/2000/svg\" height=\"24px\"viewBox=\"0 0 24 24\"\n",
              "     width=\"24px\">\n",
              "    <g>\n",
              "        <path d=\"M19 3H5c-1.1 0-2 .9-2 2v14c0 1.1.9 2 2 2h14c1.1 0 2-.9 2-2V5c0-1.1-.9-2-2-2zM9 17H7v-7h2v7zm4 0h-2V7h2v10zm4 0h-2v-4h2v4z\"/>\n",
              "    </g>\n",
              "</svg>\n",
              "      </button>\n",
              "\n",
              "<style>\n",
              "  .colab-df-quickchart {\n",
              "      --bg-color: #E8F0FE;\n",
              "      --fill-color: #1967D2;\n",
              "      --hover-bg-color: #E2EBFA;\n",
              "      --hover-fill-color: #174EA6;\n",
              "      --disabled-fill-color: #AAA;\n",
              "      --disabled-bg-color: #DDD;\n",
              "  }\n",
              "\n",
              "  [theme=dark] .colab-df-quickchart {\n",
              "      --bg-color: #3B4455;\n",
              "      --fill-color: #D2E3FC;\n",
              "      --hover-bg-color: #434B5C;\n",
              "      --hover-fill-color: #FFFFFF;\n",
              "      --disabled-bg-color: #3B4455;\n",
              "      --disabled-fill-color: #666;\n",
              "  }\n",
              "\n",
              "  .colab-df-quickchart {\n",
              "    background-color: var(--bg-color);\n",
              "    border: none;\n",
              "    border-radius: 50%;\n",
              "    cursor: pointer;\n",
              "    display: none;\n",
              "    fill: var(--fill-color);\n",
              "    height: 32px;\n",
              "    padding: 0;\n",
              "    width: 32px;\n",
              "  }\n",
              "\n",
              "  .colab-df-quickchart:hover {\n",
              "    background-color: var(--hover-bg-color);\n",
              "    box-shadow: 0 1px 2px rgba(60, 64, 67, 0.3), 0 1px 3px 1px rgba(60, 64, 67, 0.15);\n",
              "    fill: var(--button-hover-fill-color);\n",
              "  }\n",
              "\n",
              "  .colab-df-quickchart-complete:disabled,\n",
              "  .colab-df-quickchart-complete:disabled:hover {\n",
              "    background-color: var(--disabled-bg-color);\n",
              "    fill: var(--disabled-fill-color);\n",
              "    box-shadow: none;\n",
              "  }\n",
              "\n",
              "  .colab-df-spinner {\n",
              "    border: 2px solid var(--fill-color);\n",
              "    border-color: transparent;\n",
              "    border-bottom-color: var(--fill-color);\n",
              "    animation:\n",
              "      spin 1s steps(1) infinite;\n",
              "  }\n",
              "\n",
              "  @keyframes spin {\n",
              "    0% {\n",
              "      border-color: transparent;\n",
              "      border-bottom-color: var(--fill-color);\n",
              "      border-left-color: var(--fill-color);\n",
              "    }\n",
              "    20% {\n",
              "      border-color: transparent;\n",
              "      border-left-color: var(--fill-color);\n",
              "      border-top-color: var(--fill-color);\n",
              "    }\n",
              "    30% {\n",
              "      border-color: transparent;\n",
              "      border-left-color: var(--fill-color);\n",
              "      border-top-color: var(--fill-color);\n",
              "      border-right-color: var(--fill-color);\n",
              "    }\n",
              "    40% {\n",
              "      border-color: transparent;\n",
              "      border-right-color: var(--fill-color);\n",
              "      border-top-color: var(--fill-color);\n",
              "    }\n",
              "    60% {\n",
              "      border-color: transparent;\n",
              "      border-right-color: var(--fill-color);\n",
              "    }\n",
              "    80% {\n",
              "      border-color: transparent;\n",
              "      border-right-color: var(--fill-color);\n",
              "      border-bottom-color: var(--fill-color);\n",
              "    }\n",
              "    90% {\n",
              "      border-color: transparent;\n",
              "      border-bottom-color: var(--fill-color);\n",
              "    }\n",
              "  }\n",
              "</style>\n",
              "\n",
              "      <script>\n",
              "        async function quickchart(key) {\n",
              "          const quickchartButtonEl =\n",
              "            document.querySelector('#' + key + ' button');\n",
              "          quickchartButtonEl.disabled = true;  // To prevent multiple clicks.\n",
              "          quickchartButtonEl.classList.add('colab-df-spinner');\n",
              "          try {\n",
              "            const charts = await google.colab.kernel.invokeFunction(\n",
              "                'suggestCharts', [key], {});\n",
              "          } catch (error) {\n",
              "            console.error('Error during call to suggestCharts:', error);\n",
              "          }\n",
              "          quickchartButtonEl.classList.remove('colab-df-spinner');\n",
              "          quickchartButtonEl.classList.add('colab-df-quickchart-complete');\n",
              "        }\n",
              "        (() => {\n",
              "          let quickchartButtonEl =\n",
              "            document.querySelector('#df-ab637aa6-9b02-4355-9ecd-9e3c5a42a5e1 button');\n",
              "          quickchartButtonEl.style.display =\n",
              "            google.colab.kernel.accessAllowed ? 'block' : 'none';\n",
              "        })();\n",
              "      </script>\n",
              "    </div>\n",
              "\n",
              "    </div>\n",
              "  </div>\n"
            ],
            "application/vnd.google.colaboratory.intrinsic+json": {
              "type": "dataframe",
              "variable_name": "df"
            }
          },
          "metadata": {},
          "execution_count": 48
        }
      ]
    },
    {
      "cell_type": "code",
      "source": [
        "df[\"date\"] = pd.to_datetime( df.date)\n",
        "df[\"year\"] = df.date.dt.year"
      ],
      "metadata": {
        "id": "ZASUAcK5NGPB"
      },
      "execution_count": null,
      "outputs": []
    },
    {
      "cell_type": "code",
      "source": [
        "df[\"month\"] = df.date.dt.month\n",
        "df[\"year2\"] = df.year.astype(\"str\").str.cat(df.month.astype(str), sep=\"-\")"
      ],
      "metadata": {
        "id": "MadxRFSOS0LX"
      },
      "execution_count": null,
      "outputs": []
    },
    {
      "cell_type": "code",
      "source": [
        "df2 = df.pivot_table( index=\"year2\", columns=\"family\",\n",
        "                     values=\"sales\", aggfunc=sum)"
      ],
      "metadata": {
        "colab": {
          "base_uri": "https://localhost:8080/"
        },
        "id": "stGJ6Eh_NS-f",
        "outputId": "303406c4-a31f-48b1-a495-505f0e14795b"
      },
      "execution_count": null,
      "outputs": [
        {
          "output_type": "stream",
          "name": "stderr",
          "text": [
            "/tmp/ipython-input-53-4226228238.py:1: FutureWarning: The provided callable <built-in function sum> is currently using DataFrameGroupBy.sum. In a future version of pandas, the provided callable will be used directly. To keep current behavior pass the string \"sum\" instead.\n",
            "  df2 = df.pivot_table( index=\"year2\", columns=\"family\",\n"
          ]
        }
      ]
    },
    {
      "cell_type": "code",
      "source": [
        "df2.shape"
      ],
      "metadata": {
        "colab": {
          "base_uri": "https://localhost:8080/"
        },
        "id": "B0vQ0pDUUPal",
        "outputId": "3b7422e3-2667-4170-ef3e-e8aaa4c416f1"
      },
      "execution_count": null,
      "outputs": [
        {
          "output_type": "execute_result",
          "data": {
            "text/plain": [
              "(56, 33)"
            ]
          },
          "metadata": {},
          "execution_count": 54
        }
      ]
    },
    {
      "cell_type": "code",
      "source": [
        "df2.AUTOMOTIVE"
      ],
      "metadata": {
        "id": "5Rtnd7O5Ng2c"
      },
      "execution_count": null,
      "outputs": []
    },
    {
      "cell_type": "code",
      "source": [
        "import pandas as pd\n",
        "df3 = pd.read_csv(\"data/train.csv\")\n",
        "df4 = pd.read_csv(\"data/stores.csv\")"
      ],
      "metadata": {
        "id": "Um4P0a-HNsAM"
      },
      "execution_count": null,
      "outputs": []
    },
    {
      "cell_type": "code",
      "source": [
        "df3 = df3.sample(50000)"
      ],
      "metadata": {
        "id": "HUbx0m1YOB3n"
      },
      "execution_count": null,
      "outputs": []
    },
    {
      "cell_type": "code",
      "source": [
        "df5 = df3.merge(df4, left_on=\"store_nbr\", right_on=\"store_nbr\")"
      ],
      "metadata": {
        "id": "b3Gc_ZaiOITL"
      },
      "execution_count": null,
      "outputs": []
    },
    {
      "cell_type": "code",
      "source": [
        "df5.sales.hist(bins=50)"
      ],
      "metadata": {
        "id": "-gAe6OfJQK6Z"
      },
      "execution_count": null,
      "outputs": []
    },
    {
      "cell_type": "code",
      "source": [
        "df5[\"date\"] = pd.to_datetime(df5.date)\n",
        "df5[\"day\"] = df5.date.dt.day_name()\n",
        "df5[\"qt\"] = df5.date.dt.quarter\n",
        "df6 = df5[[\"qt\", \"day\", \"city\", \"type\", \"cluster\"]]\n",
        "df6[\"qt\"] = df6[\"qt\"].astype(\"object\")\n",
        "df6[\"cluster\"] = df6[\"cluster\"].astype(\"object\")\n",
        "df6_ohe = pd.get_dummies(df6)"
      ],
      "metadata": {
        "id": "fHQNrJm0OP6G"
      },
      "execution_count": null,
      "outputs": []
    },
    {
      "cell_type": "code",
      "source": [
        "df6_ohe.shape"
      ],
      "metadata": {
        "colab": {
          "base_uri": "https://localhost:8080/"
        },
        "id": "29fkqJdOVTwv",
        "outputId": "c1e9b7b0-186c-44af-f38d-917687141825"
      },
      "execution_count": null,
      "outputs": [
        {
          "output_type": "execute_result",
          "data": {
            "text/plain": [
              "(50000, 55)"
            ]
          },
          "metadata": {},
          "execution_count": 65
        }
      ]
    },
    {
      "cell_type": "code",
      "source": [
        "from sklearn.model_selection import train_test_split\n",
        "X_train, X_test, y_train, y_test = train_test_split( df6_ohe, df5.sales)\n",
        "\n",
        "from sklearn.ensemble import RandomForestRegressor\n",
        "rf = RandomForestRegressor(n_estimators=100)\n",
        "rf.fit(X_train, y_train)"
      ],
      "metadata": {
        "colab": {
          "base_uri": "https://localhost:8080/"
        },
        "id": "56fxDuUuPbXy",
        "outputId": "b8cc91c9-580a-47bf-96c5-d20308ac9f17"
      },
      "execution_count": null,
      "outputs": [
        {
          "output_type": "execute_result",
          "data": {
            "text/plain": [
              "np.float64(1186134.1420593634)"
            ]
          },
          "metadata": {},
          "execution_count": 66
        }
      ]
    },
    {
      "cell_type": "code",
      "source": [
        "(((rf.predict(X_test)-y_test)**2).mean())**0.5   #mse"
      ],
      "metadata": {
        "colab": {
          "base_uri": "https://localhost:8080/"
        },
        "id": "PfE3NArKVu6D",
        "outputId": "5f99d1e6-b5a1-4037-c5ad-9d9d601a9f93"
      },
      "execution_count": null,
      "outputs": [
        {
          "output_type": "execute_result",
          "data": {
            "text/plain": [
              "np.float64(1089.0978569712472)"
            ]
          },
          "metadata": {},
          "execution_count": 67
        }
      ]
    },
    {
      "cell_type": "code",
      "source": [
        "df5.sales.describe()"
      ],
      "metadata": {
        "id": "gE20ey2-V0OP"
      },
      "execution_count": null,
      "outputs": []
    },
    {
      "cell_type": "markdown",
      "source": [
        "5. home_default.zip\n",
        "- 결측치 처리: 변수별로...\n",
        "- target: TARGET,\n",
        "- X:ohe\n",
        "- 분류적용\n",
        "- 테스트 성능 평가\n",
        "\n",
        "\n"
      ],
      "metadata": {
        "id": "1Yei-WIiQQSr"
      }
    },
    {
      "cell_type": "code",
      "source": [
        "!unzip home_default.zip"
      ],
      "metadata": {
        "colab": {
          "base_uri": "https://localhost:8080/"
        },
        "id": "Dy9JpuHCWuq_",
        "outputId": "d8a82ce0-bbf6-4e6b-b912-9712a2a04a13"
      },
      "execution_count": 38,
      "outputs": [
        {
          "output_type": "stream",
          "name": "stdout",
          "text": [
            "Archive:  home_default.zip\n",
            "  inflating: home_default.csv        \n"
          ]
        }
      ]
    },
    {
      "cell_type": "code",
      "source": [
        "df = pd.read_csv(\"home_default.csv\")\n",
        "df.head()"
      ],
      "metadata": {
        "id": "JDq_n1B-Wz6n"
      },
      "execution_count": null,
      "outputs": []
    },
    {
      "cell_type": "code",
      "source": [
        "df.isnull().mean().sort_values(ascending=False).head(8)"
      ],
      "metadata": {
        "id": "zbAcnPGAWz-9"
      },
      "execution_count": null,
      "outputs": []
    },
    {
      "cell_type": "code",
      "source": [
        "df.AMT_REQ_CREDIT_BUREAU_YEAR"
      ],
      "metadata": {
        "id": "BTUtkdnIZwj0"
      },
      "execution_count": null,
      "outputs": []
    },
    {
      "cell_type": "code",
      "source": [
        "df.OWN_CAR_AGE.fillna(0)"
      ],
      "metadata": {
        "id": "hJgaSwfrZT0f"
      },
      "execution_count": null,
      "outputs": []
    },
    {
      "cell_type": "code",
      "source": [
        "df.AMT_REQ_CREDIT_BUREAU_YEAR\n",
        "df2 = df.iloc[:, :28]\n",
        "df2.drop(\"OWN_CAR_AGE\", axis=1, inplace=True)\n"
      ],
      "metadata": {
        "id": "lUwuRRkSXHlC"
      },
      "execution_count": 43,
      "outputs": []
    },
    {
      "cell_type": "code",
      "source": [
        "#분류.....\n",
        "pd.get_dummies(df2)"
      ],
      "metadata": {
        "id": "rIDiqgSlW0D1"
      },
      "execution_count": null,
      "outputs": []
    },
    {
      "cell_type": "markdown",
      "source": [
        "6. mortdefault모형에 대해서 fast API로 예측을 제공해보세요"
      ],
      "metadata": {
        "id": "B5hsEEWoQcoX"
      }
    }
  ]
}